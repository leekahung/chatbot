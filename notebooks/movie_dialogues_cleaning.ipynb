{
 "cells": [
  {
   "cell_type": "markdown",
   "id": "44f9f574",
   "metadata": {},
   "source": [
    "# Data Collection\n",
    "\n",
    "The main goal of this capstone project is to produce a workable chatbot with the ability to \"speak\" with its users. The dataset used for this Jupyter notebook is collected from the following website: https://www.cs.cornell.edu/~cristian/Cornell_Movie-Dialogs_Corpus.html.\n",
    "\n",
    "The dataset is published in 2011 by Cristian Danescu-Niculescu-Mizil and Lillian Lee of Cornell University for the Proceedings of the Workshop on Cognitive Modeling and Computational Linguistics at the Association of Computational Linguistics (ACL).\n",
    "\n",
    "<b>Citation:</b> Cristian Danescu-Niculescu-Mizil and Lillian Lee. 2011. Chameleons in imagined conversations: A new approach to understanding coordination of linguistic style in dialogs. <i>In Proceedings of the Workshop on Cognitive Modeling and Computational Linguistics, ACL 2011</i>, pp.76-87.\n",
    "\n",
    "This data can be obtained publically in the form of a compressed zip file from their website. For this capstone project, two of the extracted files will be used for our data wrangling: \"movie_lines.txt\" and \"movie_conversations.txt\".\n",
    "\n",
    "\"movie_lines.txt\" is a file containing a collection of fictional conversations extracted from raw movie scripts, which includes:\n",
    "\n",
    "- 220,579 conversational exchanges between 10,292 pairs of movie characters\n",
    "- involves 9,035 characters from 617 movies\n",
    "- in total 304,713 utterances\n",
    "\n",
    "\"movie_conversations.txt\" is a file containing a collection of lists that captures the order of utterances used in those conversational exchanges.\n",
    "\n",
    "# Data Cleaning\n",
    "\n",
    "To begin our data wrangling process, the following dependencies are loaded onto our Jupyter notebook:"
   ]
  },
  {
   "cell_type": "code",
   "execution_count": 1,
   "id": "982df4d8",
   "metadata": {},
   "outputs": [],
   "source": [
    "# Import Dependencies\n",
    "import pandas as pd\n",
    "import string\n",
    "import matplotlib.pyplot as plt\n",
    "import re\n",
    "import os\n",
    "from itertools import tee, chain"
   ]
  },
  {
   "cell_type": "code",
   "execution_count": 2,
   "id": "41351d5e",
   "metadata": {},
   "outputs": [],
   "source": [
    "# Creating pathway to dataset\n",
    "work_dir = os.getcwd()\n",
    "main_chatbot_dir = os.path.dirname(work_dir)\n",
    "dataset_dir = main_chatbot_dir + '/datasets'\n",
    "cornell_dataset = dataset_dir + '/cornell_movie_dialogs_corpus'"
   ]
  },
  {
   "cell_type": "code",
   "execution_count": 3,
   "id": "2a290c22",
   "metadata": {},
   "outputs": [],
   "source": [
    "# Grabbing data files of interest\n",
    "movie_lines_file = cornell_dataset + '/movie_lines.txt'\n",
    "movie_conversations_file = cornell_dataset + '/movie_conversations.txt'"
   ]
  },
  {
   "cell_type": "markdown",
   "id": "8b6d49f8",
   "metadata": {},
   "source": [
    "In the text file \"movie_lines.txt\" the authors structured the data into \"fields\" and is separated by a field separator, \" +++$+++ \". In the file, there are 5 fields:\n",
    "\n",
    "- lineID\n",
    "- characterID (who uttered this phrase)\n",
    "- movieID\n",
    "- character name\n",
    "- text of the utterance\n",
    "\n",
    "Since our data was structured similar to that of a csv file, I unpacked the data using Pandas' read_csv() function. Unfortunately, since the default engine used in read_csv(), engine='c' does not support regex separators, the parameter engine='python' was used to avoid a warning message. In order to use \" +++$+++ \" as our separator, the non-alphanumeric characters must also be separated by \"\\\\\" when inputed, else an error would appear."
   ]
  },
  {
   "cell_type": "code",
   "execution_count": 4,
   "id": "740ecefa",
   "metadata": {},
   "outputs": [],
   "source": [
    "# Loading movie_lines.txt as a Pandas DataFrame\n",
    "movie_lines_fields = [\"Line_ID\", \"Character_ID\", \"Movie_ID\", \"Character_Name\", \"Movie_Line\"]\n",
    "movie_lines = pd.read_csv(movie_lines_file, sep=\" \\+\\+\\+\\$\\+\\+\\+ \", \n",
    "                          engine='python', names=movie_lines_fields)"
   ]
  },
  {
   "cell_type": "code",
   "execution_count": 5,
   "id": "fb590a0e",
   "metadata": {
    "scrolled": false
   },
   "outputs": [
    {
     "data": {
      "text/html": [
       "<div>\n",
       "<style scoped>\n",
       "    .dataframe tbody tr th:only-of-type {\n",
       "        vertical-align: middle;\n",
       "    }\n",
       "\n",
       "    .dataframe tbody tr th {\n",
       "        vertical-align: top;\n",
       "    }\n",
       "\n",
       "    .dataframe thead th {\n",
       "        text-align: right;\n",
       "    }\n",
       "</style>\n",
       "<table border=\"1\" class=\"dataframe\">\n",
       "  <thead>\n",
       "    <tr style=\"text-align: right;\">\n",
       "      <th></th>\n",
       "      <th>Line_ID</th>\n",
       "      <th>Character_ID</th>\n",
       "      <th>Movie_ID</th>\n",
       "      <th>Character_Name</th>\n",
       "      <th>Movie_Line</th>\n",
       "    </tr>\n",
       "  </thead>\n",
       "  <tbody>\n",
       "    <tr>\n",
       "      <th>0</th>\n",
       "      <td>L1045</td>\n",
       "      <td>u0</td>\n",
       "      <td>m0</td>\n",
       "      <td>BIANCA</td>\n",
       "      <td>They do not!</td>\n",
       "    </tr>\n",
       "    <tr>\n",
       "      <th>1</th>\n",
       "      <td>L1044</td>\n",
       "      <td>u2</td>\n",
       "      <td>m0</td>\n",
       "      <td>CAMERON</td>\n",
       "      <td>They do to!</td>\n",
       "    </tr>\n",
       "    <tr>\n",
       "      <th>2</th>\n",
       "      <td>L985</td>\n",
       "      <td>u0</td>\n",
       "      <td>m0</td>\n",
       "      <td>BIANCA</td>\n",
       "      <td>I hope so.</td>\n",
       "    </tr>\n",
       "    <tr>\n",
       "      <th>3</th>\n",
       "      <td>L984</td>\n",
       "      <td>u2</td>\n",
       "      <td>m0</td>\n",
       "      <td>CAMERON</td>\n",
       "      <td>She okay?</td>\n",
       "    </tr>\n",
       "    <tr>\n",
       "      <th>4</th>\n",
       "      <td>L925</td>\n",
       "      <td>u0</td>\n",
       "      <td>m0</td>\n",
       "      <td>BIANCA</td>\n",
       "      <td>Let's go.</td>\n",
       "    </tr>\n",
       "    <tr>\n",
       "      <th>...</th>\n",
       "      <td>...</td>\n",
       "      <td>...</td>\n",
       "      <td>...</td>\n",
       "      <td>...</td>\n",
       "      <td>...</td>\n",
       "    </tr>\n",
       "    <tr>\n",
       "      <th>304708</th>\n",
       "      <td>L666371</td>\n",
       "      <td>u9030</td>\n",
       "      <td>m616</td>\n",
       "      <td>DURNFORD</td>\n",
       "      <td>Lord Chelmsford seems to want me to stay back ...</td>\n",
       "    </tr>\n",
       "    <tr>\n",
       "      <th>304709</th>\n",
       "      <td>L666370</td>\n",
       "      <td>u9034</td>\n",
       "      <td>m616</td>\n",
       "      <td>VEREKER</td>\n",
       "      <td>I'm to take the Sikali with the main column to...</td>\n",
       "    </tr>\n",
       "    <tr>\n",
       "      <th>304710</th>\n",
       "      <td>L666369</td>\n",
       "      <td>u9030</td>\n",
       "      <td>m616</td>\n",
       "      <td>DURNFORD</td>\n",
       "      <td>Your orders, Mr Vereker?</td>\n",
       "    </tr>\n",
       "    <tr>\n",
       "      <th>304711</th>\n",
       "      <td>L666257</td>\n",
       "      <td>u9030</td>\n",
       "      <td>m616</td>\n",
       "      <td>DURNFORD</td>\n",
       "      <td>Good ones, yes, Mr Vereker. Gentlemen who can ...</td>\n",
       "    </tr>\n",
       "    <tr>\n",
       "      <th>304712</th>\n",
       "      <td>L666256</td>\n",
       "      <td>u9034</td>\n",
       "      <td>m616</td>\n",
       "      <td>VEREKER</td>\n",
       "      <td>Colonel Durnford... William Vereker. I hear yo...</td>\n",
       "    </tr>\n",
       "  </tbody>\n",
       "</table>\n",
       "<p>304713 rows × 5 columns</p>\n",
       "</div>"
      ],
      "text/plain": [
       "        Line_ID Character_ID Movie_ID Character_Name  \\\n",
       "0         L1045           u0       m0         BIANCA   \n",
       "1         L1044           u2       m0        CAMERON   \n",
       "2          L985           u0       m0         BIANCA   \n",
       "3          L984           u2       m0        CAMERON   \n",
       "4          L925           u0       m0         BIANCA   \n",
       "...         ...          ...      ...            ...   \n",
       "304708  L666371        u9030     m616       DURNFORD   \n",
       "304709  L666370        u9034     m616        VEREKER   \n",
       "304710  L666369        u9030     m616       DURNFORD   \n",
       "304711  L666257        u9030     m616       DURNFORD   \n",
       "304712  L666256        u9034     m616        VEREKER   \n",
       "\n",
       "                                               Movie_Line  \n",
       "0                                            They do not!  \n",
       "1                                             They do to!  \n",
       "2                                              I hope so.  \n",
       "3                                               She okay?  \n",
       "4                                               Let's go.  \n",
       "...                                                   ...  \n",
       "304708  Lord Chelmsford seems to want me to stay back ...  \n",
       "304709  I'm to take the Sikali with the main column to...  \n",
       "304710                           Your orders, Mr Vereker?  \n",
       "304711  Good ones, yes, Mr Vereker. Gentlemen who can ...  \n",
       "304712  Colonel Durnford... William Vereker. I hear yo...  \n",
       "\n",
       "[304713 rows x 5 columns]"
      ]
     },
     "execution_count": 5,
     "metadata": {},
     "output_type": "execute_result"
    }
   ],
   "source": [
    "movie_lines"
   ]
  },
  {
   "cell_type": "code",
   "execution_count": 6,
   "id": "26070e27",
   "metadata": {},
   "outputs": [],
   "source": [
    "# Just in case, we'll removing an extraneous spaces from Movie_Line with .split()\n",
    "# and .capitalize() on Character_Name\n",
    "movie_lines['Character_Name'] = movie_lines['Character_Name'].apply(lambda x: str(x).capitalize())\n",
    "movie_lines['Movie_Line'] = movie_lines['Movie_Line'].apply(lambda x: ' '.join(str(x).split()))"
   ]
  },
  {
   "cell_type": "code",
   "execution_count": 7,
   "id": "8a0a0fe6",
   "metadata": {},
   "outputs": [
    {
     "data": {
      "text/html": [
       "<div>\n",
       "<style scoped>\n",
       "    .dataframe tbody tr th:only-of-type {\n",
       "        vertical-align: middle;\n",
       "    }\n",
       "\n",
       "    .dataframe tbody tr th {\n",
       "        vertical-align: top;\n",
       "    }\n",
       "\n",
       "    .dataframe thead th {\n",
       "        text-align: right;\n",
       "    }\n",
       "</style>\n",
       "<table border=\"1\" class=\"dataframe\">\n",
       "  <thead>\n",
       "    <tr style=\"text-align: right;\">\n",
       "      <th></th>\n",
       "      <th>Line_ID</th>\n",
       "      <th>Character_ID</th>\n",
       "      <th>Movie_ID</th>\n",
       "      <th>Character_Name</th>\n",
       "      <th>Movie_Line</th>\n",
       "    </tr>\n",
       "  </thead>\n",
       "  <tbody>\n",
       "    <tr>\n",
       "      <th>68</th>\n",
       "      <td>L194</td>\n",
       "      <td>u0</td>\n",
       "      <td>m0</td>\n",
       "      <td>Bianca</td>\n",
       "      <td>Can we make this quick? Roxanne Korrine and An...</td>\n",
       "    </tr>\n",
       "  </tbody>\n",
       "</table>\n",
       "</div>"
      ],
      "text/plain": [
       "   Line_ID Character_ID Movie_ID Character_Name  \\\n",
       "68    L194           u0       m0         Bianca   \n",
       "\n",
       "                                           Movie_Line  \n",
       "68  Can we make this quick? Roxanne Korrine and An...  "
      ]
     },
     "execution_count": 7,
     "metadata": {},
     "output_type": "execute_result"
    }
   ],
   "source": [
    "# We'll call one line to see if the formatting end up what we wanted before further processing\n",
    "movie_lines.loc[movie_lines['Line_ID'] == 'L194']"
   ]
  },
  {
   "cell_type": "code",
   "execution_count": 8,
   "id": "3d8a4125",
   "metadata": {},
   "outputs": [
    {
     "data": {
      "text/plain": [
       "array([['L194', 'u0', 'm0', 'Bianca',\n",
       "        'Can we make this quick? Roxanne Korrine and Andrew Barrett are having an incredibly horrendous public break- up on the quad. Again.']],\n",
       "      dtype=object)"
      ]
     },
     "execution_count": 8,
     "metadata": {},
     "output_type": "execute_result"
    }
   ],
   "source": [
    "movie_lines.loc[movie_lines['Line_ID'] == 'L194'].values"
   ]
  },
  {
   "cell_type": "code",
   "execution_count": 9,
   "id": "498dc07f",
   "metadata": {},
   "outputs": [],
   "source": [
    "# Moving forward, we'll use Line_ID as our DataFrame index\n",
    "movie_lines = movie_lines.set_index('Line_ID')"
   ]
  },
  {
   "cell_type": "code",
   "execution_count": 10,
   "id": "7849a8fe",
   "metadata": {},
   "outputs": [
    {
     "data": {
      "text/html": [
       "<div>\n",
       "<style scoped>\n",
       "    .dataframe tbody tr th:only-of-type {\n",
       "        vertical-align: middle;\n",
       "    }\n",
       "\n",
       "    .dataframe tbody tr th {\n",
       "        vertical-align: top;\n",
       "    }\n",
       "\n",
       "    .dataframe thead th {\n",
       "        text-align: right;\n",
       "    }\n",
       "</style>\n",
       "<table border=\"1\" class=\"dataframe\">\n",
       "  <thead>\n",
       "    <tr style=\"text-align: right;\">\n",
       "      <th></th>\n",
       "      <th>Character_ID</th>\n",
       "      <th>Movie_ID</th>\n",
       "      <th>Character_Name</th>\n",
       "      <th>Movie_Line</th>\n",
       "    </tr>\n",
       "    <tr>\n",
       "      <th>Line_ID</th>\n",
       "      <th></th>\n",
       "      <th></th>\n",
       "      <th></th>\n",
       "      <th></th>\n",
       "    </tr>\n",
       "  </thead>\n",
       "  <tbody>\n",
       "    <tr>\n",
       "      <th>L1045</th>\n",
       "      <td>u0</td>\n",
       "      <td>m0</td>\n",
       "      <td>Bianca</td>\n",
       "      <td>They do not!</td>\n",
       "    </tr>\n",
       "    <tr>\n",
       "      <th>L1044</th>\n",
       "      <td>u2</td>\n",
       "      <td>m0</td>\n",
       "      <td>Cameron</td>\n",
       "      <td>They do to!</td>\n",
       "    </tr>\n",
       "    <tr>\n",
       "      <th>L985</th>\n",
       "      <td>u0</td>\n",
       "      <td>m0</td>\n",
       "      <td>Bianca</td>\n",
       "      <td>I hope so.</td>\n",
       "    </tr>\n",
       "    <tr>\n",
       "      <th>L984</th>\n",
       "      <td>u2</td>\n",
       "      <td>m0</td>\n",
       "      <td>Cameron</td>\n",
       "      <td>She okay?</td>\n",
       "    </tr>\n",
       "    <tr>\n",
       "      <th>L925</th>\n",
       "      <td>u0</td>\n",
       "      <td>m0</td>\n",
       "      <td>Bianca</td>\n",
       "      <td>Let's go.</td>\n",
       "    </tr>\n",
       "    <tr>\n",
       "      <th>...</th>\n",
       "      <td>...</td>\n",
       "      <td>...</td>\n",
       "      <td>...</td>\n",
       "      <td>...</td>\n",
       "    </tr>\n",
       "    <tr>\n",
       "      <th>L666371</th>\n",
       "      <td>u9030</td>\n",
       "      <td>m616</td>\n",
       "      <td>Durnford</td>\n",
       "      <td>Lord Chelmsford seems to want me to stay back ...</td>\n",
       "    </tr>\n",
       "    <tr>\n",
       "      <th>L666370</th>\n",
       "      <td>u9034</td>\n",
       "      <td>m616</td>\n",
       "      <td>Vereker</td>\n",
       "      <td>I'm to take the Sikali with the main column to...</td>\n",
       "    </tr>\n",
       "    <tr>\n",
       "      <th>L666369</th>\n",
       "      <td>u9030</td>\n",
       "      <td>m616</td>\n",
       "      <td>Durnford</td>\n",
       "      <td>Your orders, Mr Vereker?</td>\n",
       "    </tr>\n",
       "    <tr>\n",
       "      <th>L666257</th>\n",
       "      <td>u9030</td>\n",
       "      <td>m616</td>\n",
       "      <td>Durnford</td>\n",
       "      <td>Good ones, yes, Mr Vereker. Gentlemen who can ...</td>\n",
       "    </tr>\n",
       "    <tr>\n",
       "      <th>L666256</th>\n",
       "      <td>u9034</td>\n",
       "      <td>m616</td>\n",
       "      <td>Vereker</td>\n",
       "      <td>Colonel Durnford... William Vereker. I hear yo...</td>\n",
       "    </tr>\n",
       "  </tbody>\n",
       "</table>\n",
       "<p>304713 rows × 4 columns</p>\n",
       "</div>"
      ],
      "text/plain": [
       "        Character_ID Movie_ID Character_Name  \\\n",
       "Line_ID                                        \n",
       "L1045             u0       m0         Bianca   \n",
       "L1044             u2       m0        Cameron   \n",
       "L985              u0       m0         Bianca   \n",
       "L984              u2       m0        Cameron   \n",
       "L925              u0       m0         Bianca   \n",
       "...              ...      ...            ...   \n",
       "L666371        u9030     m616       Durnford   \n",
       "L666370        u9034     m616        Vereker   \n",
       "L666369        u9030     m616       Durnford   \n",
       "L666257        u9030     m616       Durnford   \n",
       "L666256        u9034     m616        Vereker   \n",
       "\n",
       "                                                Movie_Line  \n",
       "Line_ID                                                     \n",
       "L1045                                         They do not!  \n",
       "L1044                                          They do to!  \n",
       "L985                                            I hope so.  \n",
       "L984                                             She okay?  \n",
       "L925                                             Let's go.  \n",
       "...                                                    ...  \n",
       "L666371  Lord Chelmsford seems to want me to stay back ...  \n",
       "L666370  I'm to take the Sikali with the main column to...  \n",
       "L666369                           Your orders, Mr Vereker?  \n",
       "L666257  Good ones, yes, Mr Vereker. Gentlemen who can ...  \n",
       "L666256  Colonel Durnford... William Vereker. I hear yo...  \n",
       "\n",
       "[304713 rows x 4 columns]"
      ]
     },
     "execution_count": 10,
     "metadata": {},
     "output_type": "execute_result"
    }
   ],
   "source": [
    "movie_lines"
   ]
  },
  {
   "cell_type": "code",
   "execution_count": 11,
   "id": "4fd43943",
   "metadata": {},
   "outputs": [
    {
     "data": {
      "text/plain": [
       "'Can we make this quick? Roxanne Korrine and Andrew Barrett are having an incredibly horrendous public break- up on the quad. Again.'"
      ]
     },
     "execution_count": 11,
     "metadata": {},
     "output_type": "execute_result"
    }
   ],
   "source": [
    "movie_lines.loc['L194', 'Movie_Line']"
   ]
  },
  {
   "cell_type": "markdown",
   "id": "7a99ef18",
   "metadata": {},
   "source": [
    "There appears to be dashes in our dataset."
   ]
  },
  {
   "cell_type": "code",
   "execution_count": 12,
   "id": "6f1d3046",
   "metadata": {},
   "outputs": [
    {
     "data": {
      "text/plain": [
       "Line_ID\n",
       "L872          Okay -- you're gonna need to learn how to lie.\n",
       "L405       Lesbian? No. I found a picture of Jared Leto i...\n",
       "L277               Well, there's someone I think might be --\n",
       "L202       The thing is, Cameron -- I'm at the mercy of a...\n",
       "L200       No, no, it's my fault -- we didn't have a prop...\n",
       "                                 ...                        \n",
       "L666363    From the Cook, Sir They saw me dip your shavin...\n",
       "L666389    Excuse me, My Lord. Norris-Newman, of \"The Sta...\n",
       "L666482    Intelligence? Sources of your own? Did it not ...\n",
       "L666384    Er, called Noggs, Sir Actual name is Norris-Ne...\n",
       "L666576    Keep steady. You're the best shots of the Twen...\n",
       "Name: Movie_Line, Length: 33702, dtype: object"
      ]
     },
     "execution_count": 12,
     "metadata": {},
     "output_type": "execute_result"
    }
   ],
   "source": [
    "# Checking for lines containing dashes\n",
    "movie_lines.loc[movie_lines['Movie_Line'].str.contains('-') == True, 'Movie_Line']"
   ]
  },
  {
   "cell_type": "code",
   "execution_count": 13,
   "id": "659629fd",
   "metadata": {},
   "outputs": [],
   "source": [
    "# Cleaning data such that double dashes are replaced with single dashes and words with dashes gets fixed\n",
    "movie_lines['Movie_Line'] = movie_lines['Movie_Line'].apply(lambda x: x.replace('- ', '-'))\n",
    "movie_lines['Movie_Line'] = movie_lines['Movie_Line'].apply(lambda x: x.replace('--', '- '))"
   ]
  },
  {
   "cell_type": "code",
   "execution_count": 14,
   "id": "a767cc62",
   "metadata": {},
   "outputs": [
    {
     "data": {
      "text/plain": [
       "'Can we make this quick? Roxanne Korrine and Andrew Barrett are having an incredibly horrendous public break-up on the quad. Again.'"
      ]
     },
     "execution_count": 14,
     "metadata": {},
     "output_type": "execute_result"
    }
   ],
   "source": [
    "movie_lines.loc['L194', 'Movie_Line']"
   ]
  },
  {
   "cell_type": "code",
   "execution_count": 15,
   "id": "c7f9b001",
   "metadata": {},
   "outputs": [
    {
     "data": {
      "text/plain": [
       "\"Okay - you're gonna need to learn how to lie.\""
      ]
     },
     "execution_count": 15,
     "metadata": {},
     "output_type": "execute_result"
    }
   ],
   "source": [
    "movie_lines.loc['L872', 'Movie_Line']"
   ]
  },
  {
   "cell_type": "code",
   "execution_count": 16,
   "id": "3aac860d",
   "metadata": {},
   "outputs": [
    {
     "data": {
      "text/plain": [
       "'Er, called Noggs, Sir Actual name is Norris-Newman. He presented credentials from \"The Standard\".'"
      ]
     },
     "execution_count": 16,
     "metadata": {},
     "output_type": "execute_result"
    }
   ],
   "source": [
    "movie_lines.loc['L666384', 'Movie_Line']"
   ]
  },
  {
   "cell_type": "markdown",
   "id": "4e652fbb",
   "metadata": {},
   "source": [
    "Before I get the dialogues into chronological order, I first need the list contained in \"movie_conversations.txt\".\n",
    "\n",
    "In the text file \"movie_conversations.txt\" the authors similarly structured the data into \"fields\" and is separated by a field separator, \" +++$+++ \". In this file, there are 5 fields:\n",
    "\n",
    "- characterID of the first character involved in the conversation\n",
    "- characterID of the second character involved in the conversation\n",
    "- movieID of the movie in which the conversation occurred\n",
    "- list of the utterances that make the conversation, in chronological order"
   ]
  },
  {
   "cell_type": "code",
   "execution_count": 17,
   "id": "89cc8665",
   "metadata": {},
   "outputs": [],
   "source": [
    "# Loading movie_conversations.txt using definitions from README.txt\n",
    "movie_conversations_fields = [\"Character_ID_1\", \"Character_ID_2\", \"Movie_ID\", \"Movie_Line_Order\"]\n",
    "movie_conversations = pd.read_csv(movie_conversations_file, sep=\" \\+\\+\\+\\$\\+\\+\\+ \", \n",
    "                                  engine='python', names=movie_conversations_fields)"
   ]
  },
  {
   "cell_type": "code",
   "execution_count": 18,
   "id": "fded054b",
   "metadata": {},
   "outputs": [
    {
     "data": {
      "text/html": [
       "<div>\n",
       "<style scoped>\n",
       "    .dataframe tbody tr th:only-of-type {\n",
       "        vertical-align: middle;\n",
       "    }\n",
       "\n",
       "    .dataframe tbody tr th {\n",
       "        vertical-align: top;\n",
       "    }\n",
       "\n",
       "    .dataframe thead th {\n",
       "        text-align: right;\n",
       "    }\n",
       "</style>\n",
       "<table border=\"1\" class=\"dataframe\">\n",
       "  <thead>\n",
       "    <tr style=\"text-align: right;\">\n",
       "      <th></th>\n",
       "      <th>Character_ID_1</th>\n",
       "      <th>Character_ID_2</th>\n",
       "      <th>Movie_ID</th>\n",
       "      <th>Movie_Line_Order</th>\n",
       "    </tr>\n",
       "  </thead>\n",
       "  <tbody>\n",
       "    <tr>\n",
       "      <th>0</th>\n",
       "      <td>u0</td>\n",
       "      <td>u2</td>\n",
       "      <td>m0</td>\n",
       "      <td>['L194', 'L195', 'L196', 'L197']</td>\n",
       "    </tr>\n",
       "    <tr>\n",
       "      <th>1</th>\n",
       "      <td>u0</td>\n",
       "      <td>u2</td>\n",
       "      <td>m0</td>\n",
       "      <td>['L198', 'L199']</td>\n",
       "    </tr>\n",
       "    <tr>\n",
       "      <th>2</th>\n",
       "      <td>u0</td>\n",
       "      <td>u2</td>\n",
       "      <td>m0</td>\n",
       "      <td>['L200', 'L201', 'L202', 'L203']</td>\n",
       "    </tr>\n",
       "    <tr>\n",
       "      <th>3</th>\n",
       "      <td>u0</td>\n",
       "      <td>u2</td>\n",
       "      <td>m0</td>\n",
       "      <td>['L204', 'L205', 'L206']</td>\n",
       "    </tr>\n",
       "    <tr>\n",
       "      <th>4</th>\n",
       "      <td>u0</td>\n",
       "      <td>u2</td>\n",
       "      <td>m0</td>\n",
       "      <td>['L207', 'L208']</td>\n",
       "    </tr>\n",
       "    <tr>\n",
       "      <th>...</th>\n",
       "      <td>...</td>\n",
       "      <td>...</td>\n",
       "      <td>...</td>\n",
       "      <td>...</td>\n",
       "    </tr>\n",
       "    <tr>\n",
       "      <th>83092</th>\n",
       "      <td>u9028</td>\n",
       "      <td>u9031</td>\n",
       "      <td>m616</td>\n",
       "      <td>['L666324', 'L666325', 'L666326', 'L666327']</td>\n",
       "    </tr>\n",
       "    <tr>\n",
       "      <th>83093</th>\n",
       "      <td>u9028</td>\n",
       "      <td>u9031</td>\n",
       "      <td>m616</td>\n",
       "      <td>['L666575', 'L666576']</td>\n",
       "    </tr>\n",
       "    <tr>\n",
       "      <th>83094</th>\n",
       "      <td>u9030</td>\n",
       "      <td>u9034</td>\n",
       "      <td>m616</td>\n",
       "      <td>['L666256', 'L666257']</td>\n",
       "    </tr>\n",
       "    <tr>\n",
       "      <th>83095</th>\n",
       "      <td>u9030</td>\n",
       "      <td>u9034</td>\n",
       "      <td>m616</td>\n",
       "      <td>['L666369', 'L666370', 'L666371', 'L666372']</td>\n",
       "    </tr>\n",
       "    <tr>\n",
       "      <th>83096</th>\n",
       "      <td>u9030</td>\n",
       "      <td>u9034</td>\n",
       "      <td>m616</td>\n",
       "      <td>['L666520', 'L666521', 'L666522']</td>\n",
       "    </tr>\n",
       "  </tbody>\n",
       "</table>\n",
       "<p>83097 rows × 4 columns</p>\n",
       "</div>"
      ],
      "text/plain": [
       "      Character_ID_1 Character_ID_2 Movie_ID  \\\n",
       "0                 u0             u2       m0   \n",
       "1                 u0             u2       m0   \n",
       "2                 u0             u2       m0   \n",
       "3                 u0             u2       m0   \n",
       "4                 u0             u2       m0   \n",
       "...              ...            ...      ...   \n",
       "83092          u9028          u9031     m616   \n",
       "83093          u9028          u9031     m616   \n",
       "83094          u9030          u9034     m616   \n",
       "83095          u9030          u9034     m616   \n",
       "83096          u9030          u9034     m616   \n",
       "\n",
       "                                   Movie_Line_Order  \n",
       "0                  ['L194', 'L195', 'L196', 'L197']  \n",
       "1                                  ['L198', 'L199']  \n",
       "2                  ['L200', 'L201', 'L202', 'L203']  \n",
       "3                          ['L204', 'L205', 'L206']  \n",
       "4                                  ['L207', 'L208']  \n",
       "...                                             ...  \n",
       "83092  ['L666324', 'L666325', 'L666326', 'L666327']  \n",
       "83093                        ['L666575', 'L666576']  \n",
       "83094                        ['L666256', 'L666257']  \n",
       "83095  ['L666369', 'L666370', 'L666371', 'L666372']  \n",
       "83096             ['L666520', 'L666521', 'L666522']  \n",
       "\n",
       "[83097 rows x 4 columns]"
      ]
     },
     "execution_count": 18,
     "metadata": {},
     "output_type": "execute_result"
    }
   ],
   "source": [
    "movie_conversations"
   ]
  },
  {
   "cell_type": "code",
   "execution_count": 19,
   "id": "1a3c36b9",
   "metadata": {},
   "outputs": [
    {
     "data": {
      "text/plain": [
       "\"['L194', 'L195', 'L196', 'L197']\""
      ]
     },
     "execution_count": 19,
     "metadata": {},
     "output_type": "execute_result"
    }
   ],
   "source": [
    "movie_conversations['Movie_Line_Order'][0]"
   ]
  },
  {
   "cell_type": "code",
   "execution_count": 20,
   "id": "b0a52e60",
   "metadata": {},
   "outputs": [],
   "source": [
    "# The list of strings appears to be enclosed in double quotations \"\"\n",
    "# We'll just convert it into an ordinary list of strings without quotations\n",
    "movie_conversations['Movie_Line_Order'] = movie_conversations['Movie_Line_Order'].apply(lambda x: eval(' '.join(x.split())))"
   ]
  },
  {
   "cell_type": "code",
   "execution_count": 21,
   "id": "4e4bb35e",
   "metadata": {},
   "outputs": [
    {
     "data": {
      "text/html": [
       "<div>\n",
       "<style scoped>\n",
       "    .dataframe tbody tr th:only-of-type {\n",
       "        vertical-align: middle;\n",
       "    }\n",
       "\n",
       "    .dataframe tbody tr th {\n",
       "        vertical-align: top;\n",
       "    }\n",
       "\n",
       "    .dataframe thead th {\n",
       "        text-align: right;\n",
       "    }\n",
       "</style>\n",
       "<table border=\"1\" class=\"dataframe\">\n",
       "  <thead>\n",
       "    <tr style=\"text-align: right;\">\n",
       "      <th></th>\n",
       "      <th>Character_ID_1</th>\n",
       "      <th>Character_ID_2</th>\n",
       "      <th>Movie_ID</th>\n",
       "      <th>Movie_Line_Order</th>\n",
       "    </tr>\n",
       "  </thead>\n",
       "  <tbody>\n",
       "    <tr>\n",
       "      <th>0</th>\n",
       "      <td>u0</td>\n",
       "      <td>u2</td>\n",
       "      <td>m0</td>\n",
       "      <td>[L194, L195, L196, L197]</td>\n",
       "    </tr>\n",
       "    <tr>\n",
       "      <th>1</th>\n",
       "      <td>u0</td>\n",
       "      <td>u2</td>\n",
       "      <td>m0</td>\n",
       "      <td>[L198, L199]</td>\n",
       "    </tr>\n",
       "    <tr>\n",
       "      <th>2</th>\n",
       "      <td>u0</td>\n",
       "      <td>u2</td>\n",
       "      <td>m0</td>\n",
       "      <td>[L200, L201, L202, L203]</td>\n",
       "    </tr>\n",
       "    <tr>\n",
       "      <th>3</th>\n",
       "      <td>u0</td>\n",
       "      <td>u2</td>\n",
       "      <td>m0</td>\n",
       "      <td>[L204, L205, L206]</td>\n",
       "    </tr>\n",
       "    <tr>\n",
       "      <th>4</th>\n",
       "      <td>u0</td>\n",
       "      <td>u2</td>\n",
       "      <td>m0</td>\n",
       "      <td>[L207, L208]</td>\n",
       "    </tr>\n",
       "    <tr>\n",
       "      <th>...</th>\n",
       "      <td>...</td>\n",
       "      <td>...</td>\n",
       "      <td>...</td>\n",
       "      <td>...</td>\n",
       "    </tr>\n",
       "    <tr>\n",
       "      <th>83092</th>\n",
       "      <td>u9028</td>\n",
       "      <td>u9031</td>\n",
       "      <td>m616</td>\n",
       "      <td>[L666324, L666325, L666326, L666327]</td>\n",
       "    </tr>\n",
       "    <tr>\n",
       "      <th>83093</th>\n",
       "      <td>u9028</td>\n",
       "      <td>u9031</td>\n",
       "      <td>m616</td>\n",
       "      <td>[L666575, L666576]</td>\n",
       "    </tr>\n",
       "    <tr>\n",
       "      <th>83094</th>\n",
       "      <td>u9030</td>\n",
       "      <td>u9034</td>\n",
       "      <td>m616</td>\n",
       "      <td>[L666256, L666257]</td>\n",
       "    </tr>\n",
       "    <tr>\n",
       "      <th>83095</th>\n",
       "      <td>u9030</td>\n",
       "      <td>u9034</td>\n",
       "      <td>m616</td>\n",
       "      <td>[L666369, L666370, L666371, L666372]</td>\n",
       "    </tr>\n",
       "    <tr>\n",
       "      <th>83096</th>\n",
       "      <td>u9030</td>\n",
       "      <td>u9034</td>\n",
       "      <td>m616</td>\n",
       "      <td>[L666520, L666521, L666522]</td>\n",
       "    </tr>\n",
       "  </tbody>\n",
       "</table>\n",
       "<p>83097 rows × 4 columns</p>\n",
       "</div>"
      ],
      "text/plain": [
       "      Character_ID_1 Character_ID_2 Movie_ID  \\\n",
       "0                 u0             u2       m0   \n",
       "1                 u0             u2       m0   \n",
       "2                 u0             u2       m0   \n",
       "3                 u0             u2       m0   \n",
       "4                 u0             u2       m0   \n",
       "...              ...            ...      ...   \n",
       "83092          u9028          u9031     m616   \n",
       "83093          u9028          u9031     m616   \n",
       "83094          u9030          u9034     m616   \n",
       "83095          u9030          u9034     m616   \n",
       "83096          u9030          u9034     m616   \n",
       "\n",
       "                           Movie_Line_Order  \n",
       "0                  [L194, L195, L196, L197]  \n",
       "1                              [L198, L199]  \n",
       "2                  [L200, L201, L202, L203]  \n",
       "3                        [L204, L205, L206]  \n",
       "4                              [L207, L208]  \n",
       "...                                     ...  \n",
       "83092  [L666324, L666325, L666326, L666327]  \n",
       "83093                    [L666575, L666576]  \n",
       "83094                    [L666256, L666257]  \n",
       "83095  [L666369, L666370, L666371, L666372]  \n",
       "83096           [L666520, L666521, L666522]  \n",
       "\n",
       "[83097 rows x 4 columns]"
      ]
     },
     "execution_count": 21,
     "metadata": {},
     "output_type": "execute_result"
    }
   ],
   "source": [
    "movie_conversations"
   ]
  },
  {
   "cell_type": "code",
   "execution_count": 22,
   "id": "aa70ba73",
   "metadata": {},
   "outputs": [
    {
     "data": {
      "text/plain": [
       "['L194', 'L195', 'L196', 'L197']"
      ]
     },
     "execution_count": 22,
     "metadata": {},
     "output_type": "execute_result"
    }
   ],
   "source": [
    "movie_conversations['Movie_Line_Order'][0]"
   ]
  },
  {
   "cell_type": "markdown",
   "id": "4b9048e1",
   "metadata": {},
   "source": [
    "Now that we have our list containing conversational exchanges in chronological order, I'll replace the Line_ID with the actual movie line.\n",
    "\n",
    "The following function, grab_lines(), will do this for us."
   ]
  },
  {
   "cell_type": "code",
   "execution_count": 23,
   "id": "543a275c",
   "metadata": {},
   "outputs": [],
   "source": [
    "# Defining function to convert Movie_Line_Order into actual text\n",
    "def grab_lines(movie_line_list):\n",
    "    \"\"\"Function takes list from labels from movie_conversations['Movie_Line_Order'] and turns it into list dialogue\"\"\"\n",
    "    return [movie_lines.loc[line, 'Movie_Line'] for line in movie_line_list]"
   ]
  },
  {
   "cell_type": "markdown",
   "id": "6e5a9271",
   "metadata": {},
   "source": [
    "For the chatbot, I plan on using dialogue pairs in the form of a comment and a reply (comment, reply) to train it. So I created an additional function, make_pairs(), to perform this."
   ]
  },
  {
   "cell_type": "code",
   "execution_count": 24,
   "id": "6e23ac20",
   "metadata": {},
   "outputs": [],
   "source": [
    "# Defining functions to convert conversations into (comment, reply) pairs\n",
    "def make_pairs(movie_line_list):\n",
    "    \"\"\"Turn list into [list[0], list[1]], [list[1], list[2]], [list[2], list[3]], ...\"\"\"\n",
    "    a, b = tee(movie_line_list)\n",
    "    next(b, None)\n",
    "    return [[i,j] for i, j in zip(a, b)]"
   ]
  },
  {
   "cell_type": "code",
   "execution_count": 25,
   "id": "61bf1f6c",
   "metadata": {},
   "outputs": [],
   "source": [
    "# Generate (comment, reply) pairs into from Movie_Line_Order using make_pairs()\n",
    "movie_conversations['Dialogue_Pairs'] = movie_conversations['Movie_Line_Order'].apply(lambda x: make_pairs(x))"
   ]
  },
  {
   "cell_type": "code",
   "execution_count": 26,
   "id": "7043b428",
   "metadata": {},
   "outputs": [
    {
     "data": {
      "text/html": [
       "<div>\n",
       "<style scoped>\n",
       "    .dataframe tbody tr th:only-of-type {\n",
       "        vertical-align: middle;\n",
       "    }\n",
       "\n",
       "    .dataframe tbody tr th {\n",
       "        vertical-align: top;\n",
       "    }\n",
       "\n",
       "    .dataframe thead th {\n",
       "        text-align: right;\n",
       "    }\n",
       "</style>\n",
       "<table border=\"1\" class=\"dataframe\">\n",
       "  <thead>\n",
       "    <tr style=\"text-align: right;\">\n",
       "      <th></th>\n",
       "      <th>Character_ID_1</th>\n",
       "      <th>Character_ID_2</th>\n",
       "      <th>Movie_ID</th>\n",
       "      <th>Movie_Line_Order</th>\n",
       "      <th>Dialogue_Pairs</th>\n",
       "    </tr>\n",
       "  </thead>\n",
       "  <tbody>\n",
       "    <tr>\n",
       "      <th>0</th>\n",
       "      <td>u0</td>\n",
       "      <td>u2</td>\n",
       "      <td>m0</td>\n",
       "      <td>[L194, L195, L196, L197]</td>\n",
       "      <td>[[L194, L195], [L195, L196], [L196, L197]]</td>\n",
       "    </tr>\n",
       "    <tr>\n",
       "      <th>1</th>\n",
       "      <td>u0</td>\n",
       "      <td>u2</td>\n",
       "      <td>m0</td>\n",
       "      <td>[L198, L199]</td>\n",
       "      <td>[[L198, L199]]</td>\n",
       "    </tr>\n",
       "    <tr>\n",
       "      <th>2</th>\n",
       "      <td>u0</td>\n",
       "      <td>u2</td>\n",
       "      <td>m0</td>\n",
       "      <td>[L200, L201, L202, L203]</td>\n",
       "      <td>[[L200, L201], [L201, L202], [L202, L203]]</td>\n",
       "    </tr>\n",
       "    <tr>\n",
       "      <th>3</th>\n",
       "      <td>u0</td>\n",
       "      <td>u2</td>\n",
       "      <td>m0</td>\n",
       "      <td>[L204, L205, L206]</td>\n",
       "      <td>[[L204, L205], [L205, L206]]</td>\n",
       "    </tr>\n",
       "    <tr>\n",
       "      <th>4</th>\n",
       "      <td>u0</td>\n",
       "      <td>u2</td>\n",
       "      <td>m0</td>\n",
       "      <td>[L207, L208]</td>\n",
       "      <td>[[L207, L208]]</td>\n",
       "    </tr>\n",
       "    <tr>\n",
       "      <th>...</th>\n",
       "      <td>...</td>\n",
       "      <td>...</td>\n",
       "      <td>...</td>\n",
       "      <td>...</td>\n",
       "      <td>...</td>\n",
       "    </tr>\n",
       "    <tr>\n",
       "      <th>83092</th>\n",
       "      <td>u9028</td>\n",
       "      <td>u9031</td>\n",
       "      <td>m616</td>\n",
       "      <td>[L666324, L666325, L666326, L666327]</td>\n",
       "      <td>[[L666324, L666325], [L666325, L666326], [L666...</td>\n",
       "    </tr>\n",
       "    <tr>\n",
       "      <th>83093</th>\n",
       "      <td>u9028</td>\n",
       "      <td>u9031</td>\n",
       "      <td>m616</td>\n",
       "      <td>[L666575, L666576]</td>\n",
       "      <td>[[L666575, L666576]]</td>\n",
       "    </tr>\n",
       "    <tr>\n",
       "      <th>83094</th>\n",
       "      <td>u9030</td>\n",
       "      <td>u9034</td>\n",
       "      <td>m616</td>\n",
       "      <td>[L666256, L666257]</td>\n",
       "      <td>[[L666256, L666257]]</td>\n",
       "    </tr>\n",
       "    <tr>\n",
       "      <th>83095</th>\n",
       "      <td>u9030</td>\n",
       "      <td>u9034</td>\n",
       "      <td>m616</td>\n",
       "      <td>[L666369, L666370, L666371, L666372]</td>\n",
       "      <td>[[L666369, L666370], [L666370, L666371], [L666...</td>\n",
       "    </tr>\n",
       "    <tr>\n",
       "      <th>83096</th>\n",
       "      <td>u9030</td>\n",
       "      <td>u9034</td>\n",
       "      <td>m616</td>\n",
       "      <td>[L666520, L666521, L666522]</td>\n",
       "      <td>[[L666520, L666521], [L666521, L666522]]</td>\n",
       "    </tr>\n",
       "  </tbody>\n",
       "</table>\n",
       "<p>83097 rows × 5 columns</p>\n",
       "</div>"
      ],
      "text/plain": [
       "      Character_ID_1 Character_ID_2 Movie_ID  \\\n",
       "0                 u0             u2       m0   \n",
       "1                 u0             u2       m0   \n",
       "2                 u0             u2       m0   \n",
       "3                 u0             u2       m0   \n",
       "4                 u0             u2       m0   \n",
       "...              ...            ...      ...   \n",
       "83092          u9028          u9031     m616   \n",
       "83093          u9028          u9031     m616   \n",
       "83094          u9030          u9034     m616   \n",
       "83095          u9030          u9034     m616   \n",
       "83096          u9030          u9034     m616   \n",
       "\n",
       "                           Movie_Line_Order  \\\n",
       "0                  [L194, L195, L196, L197]   \n",
       "1                              [L198, L199]   \n",
       "2                  [L200, L201, L202, L203]   \n",
       "3                        [L204, L205, L206]   \n",
       "4                              [L207, L208]   \n",
       "...                                     ...   \n",
       "83092  [L666324, L666325, L666326, L666327]   \n",
       "83093                    [L666575, L666576]   \n",
       "83094                    [L666256, L666257]   \n",
       "83095  [L666369, L666370, L666371, L666372]   \n",
       "83096           [L666520, L666521, L666522]   \n",
       "\n",
       "                                          Dialogue_Pairs  \n",
       "0             [[L194, L195], [L195, L196], [L196, L197]]  \n",
       "1                                         [[L198, L199]]  \n",
       "2             [[L200, L201], [L201, L202], [L202, L203]]  \n",
       "3                           [[L204, L205], [L205, L206]]  \n",
       "4                                         [[L207, L208]]  \n",
       "...                                                  ...  \n",
       "83092  [[L666324, L666325], [L666325, L666326], [L666...  \n",
       "83093                               [[L666575, L666576]]  \n",
       "83094                               [[L666256, L666257]]  \n",
       "83095  [[L666369, L666370], [L666370, L666371], [L666...  \n",
       "83096           [[L666520, L666521], [L666521, L666522]]  \n",
       "\n",
       "[83097 rows x 5 columns]"
      ]
     },
     "execution_count": 26,
     "metadata": {},
     "output_type": "execute_result"
    }
   ],
   "source": [
    "movie_conversations"
   ]
  },
  {
   "cell_type": "code",
   "execution_count": 27,
   "id": "8f4506c0",
   "metadata": {},
   "outputs": [
    {
     "data": {
      "text/plain": [
       "[['Can we make this quick? Roxanne Korrine and Andrew Barrett are having an incredibly horrendous public break-up on the quad. Again.',\n",
       "  \"Well, I thought we'd start with pronunciation, if that's okay with you.\"],\n",
       " [\"Well, I thought we'd start with pronunciation, if that's okay with you.\",\n",
       "  'Not the hacking and gagging and spitting part. Please.'],\n",
       " ['Not the hacking and gagging and spitting part. Please.',\n",
       "  \"Okay... then how 'bout we try out some French cuisine. Saturday? Night?\"]]"
      ]
     },
     "execution_count": 27,
     "metadata": {},
     "output_type": "execute_result"
    }
   ],
   "source": [
    "# We'll make a simple list comprehension to test our grab_lines() function\n",
    "[grab_lines(line) for line in movie_conversations['Dialogue_Pairs'][0]]"
   ]
  },
  {
   "cell_type": "code",
   "execution_count": 28,
   "id": "918e16fd",
   "metadata": {},
   "outputs": [],
   "source": [
    "# Convert our list of dialogue pair labels into actual dialogue\n",
    "movie_conversations['Dialogue_Pairs_Text'] = movie_conversations['Dialogue_Pairs'].apply(lambda x: [grab_lines(line) for line in x])"
   ]
  },
  {
   "cell_type": "code",
   "execution_count": 29,
   "id": "ea8f6ae5",
   "metadata": {},
   "outputs": [
    {
     "data": {
      "text/html": [
       "<div>\n",
       "<style scoped>\n",
       "    .dataframe tbody tr th:only-of-type {\n",
       "        vertical-align: middle;\n",
       "    }\n",
       "\n",
       "    .dataframe tbody tr th {\n",
       "        vertical-align: top;\n",
       "    }\n",
       "\n",
       "    .dataframe thead th {\n",
       "        text-align: right;\n",
       "    }\n",
       "</style>\n",
       "<table border=\"1\" class=\"dataframe\">\n",
       "  <thead>\n",
       "    <tr style=\"text-align: right;\">\n",
       "      <th></th>\n",
       "      <th>Character_ID_1</th>\n",
       "      <th>Character_ID_2</th>\n",
       "      <th>Movie_ID</th>\n",
       "      <th>Movie_Line_Order</th>\n",
       "      <th>Dialogue_Pairs</th>\n",
       "      <th>Dialogue_Pairs_Text</th>\n",
       "    </tr>\n",
       "  </thead>\n",
       "  <tbody>\n",
       "    <tr>\n",
       "      <th>0</th>\n",
       "      <td>u0</td>\n",
       "      <td>u2</td>\n",
       "      <td>m0</td>\n",
       "      <td>[L194, L195, L196, L197]</td>\n",
       "      <td>[[L194, L195], [L195, L196], [L196, L197]]</td>\n",
       "      <td>[[Can we make this quick? Roxanne Korrine and ...</td>\n",
       "    </tr>\n",
       "    <tr>\n",
       "      <th>1</th>\n",
       "      <td>u0</td>\n",
       "      <td>u2</td>\n",
       "      <td>m0</td>\n",
       "      <td>[L198, L199]</td>\n",
       "      <td>[[L198, L199]]</td>\n",
       "      <td>[[You're asking me out. That's so cute. What's...</td>\n",
       "    </tr>\n",
       "    <tr>\n",
       "      <th>2</th>\n",
       "      <td>u0</td>\n",
       "      <td>u2</td>\n",
       "      <td>m0</td>\n",
       "      <td>[L200, L201, L202, L203]</td>\n",
       "      <td>[[L200, L201], [L201, L202], [L202, L203]]</td>\n",
       "      <td>[[No, no, it's my fault - we didn't have a pro...</td>\n",
       "    </tr>\n",
       "    <tr>\n",
       "      <th>3</th>\n",
       "      <td>u0</td>\n",
       "      <td>u2</td>\n",
       "      <td>m0</td>\n",
       "      <td>[L204, L205, L206]</td>\n",
       "      <td>[[L204, L205], [L205, L206]]</td>\n",
       "      <td>[[Why?, Unsolved mystery. She used to be reall...</td>\n",
       "    </tr>\n",
       "    <tr>\n",
       "      <th>4</th>\n",
       "      <td>u0</td>\n",
       "      <td>u2</td>\n",
       "      <td>m0</td>\n",
       "      <td>[L207, L208]</td>\n",
       "      <td>[[L207, L208]]</td>\n",
       "      <td>[[Gosh, if only we could find Kat a boyfriend....</td>\n",
       "    </tr>\n",
       "    <tr>\n",
       "      <th>...</th>\n",
       "      <td>...</td>\n",
       "      <td>...</td>\n",
       "      <td>...</td>\n",
       "      <td>...</td>\n",
       "      <td>...</td>\n",
       "      <td>...</td>\n",
       "    </tr>\n",
       "    <tr>\n",
       "      <th>83092</th>\n",
       "      <td>u9028</td>\n",
       "      <td>u9031</td>\n",
       "      <td>m616</td>\n",
       "      <td>[L666324, L666325, L666326, L666327]</td>\n",
       "      <td>[[L666324, L666325], [L666325, L666326], [L666...</td>\n",
       "      <td>[[Do you think she might be interested in some...</td>\n",
       "    </tr>\n",
       "    <tr>\n",
       "      <th>83093</th>\n",
       "      <td>u9028</td>\n",
       "      <td>u9031</td>\n",
       "      <td>m616</td>\n",
       "      <td>[L666575, L666576]</td>\n",
       "      <td>[[L666575, L666576]]</td>\n",
       "      <td>[[Choose your targets men. That's right Watch ...</td>\n",
       "    </tr>\n",
       "    <tr>\n",
       "      <th>83094</th>\n",
       "      <td>u9030</td>\n",
       "      <td>u9034</td>\n",
       "      <td>m616</td>\n",
       "      <td>[L666256, L666257]</td>\n",
       "      <td>[[L666256, L666257]]</td>\n",
       "      <td>[[Colonel Durnford... William Vereker. I hear ...</td>\n",
       "    </tr>\n",
       "    <tr>\n",
       "      <th>83095</th>\n",
       "      <td>u9030</td>\n",
       "      <td>u9034</td>\n",
       "      <td>m616</td>\n",
       "      <td>[L666369, L666370, L666371, L666372]</td>\n",
       "      <td>[[L666369, L666370], [L666370, L666371], [L666...</td>\n",
       "      <td>[[Your orders, Mr Vereker?, I'm to take the Si...</td>\n",
       "    </tr>\n",
       "    <tr>\n",
       "      <th>83096</th>\n",
       "      <td>u9030</td>\n",
       "      <td>u9034</td>\n",
       "      <td>m616</td>\n",
       "      <td>[L666520, L666521, L666522]</td>\n",
       "      <td>[[L666520, L666521], [L666521, L666522]]</td>\n",
       "      <td>[[Well I assure you, Sir, I have no desire to ...</td>\n",
       "    </tr>\n",
       "  </tbody>\n",
       "</table>\n",
       "<p>83097 rows × 6 columns</p>\n",
       "</div>"
      ],
      "text/plain": [
       "      Character_ID_1 Character_ID_2 Movie_ID  \\\n",
       "0                 u0             u2       m0   \n",
       "1                 u0             u2       m0   \n",
       "2                 u0             u2       m0   \n",
       "3                 u0             u2       m0   \n",
       "4                 u0             u2       m0   \n",
       "...              ...            ...      ...   \n",
       "83092          u9028          u9031     m616   \n",
       "83093          u9028          u9031     m616   \n",
       "83094          u9030          u9034     m616   \n",
       "83095          u9030          u9034     m616   \n",
       "83096          u9030          u9034     m616   \n",
       "\n",
       "                           Movie_Line_Order  \\\n",
       "0                  [L194, L195, L196, L197]   \n",
       "1                              [L198, L199]   \n",
       "2                  [L200, L201, L202, L203]   \n",
       "3                        [L204, L205, L206]   \n",
       "4                              [L207, L208]   \n",
       "...                                     ...   \n",
       "83092  [L666324, L666325, L666326, L666327]   \n",
       "83093                    [L666575, L666576]   \n",
       "83094                    [L666256, L666257]   \n",
       "83095  [L666369, L666370, L666371, L666372]   \n",
       "83096           [L666520, L666521, L666522]   \n",
       "\n",
       "                                          Dialogue_Pairs  \\\n",
       "0             [[L194, L195], [L195, L196], [L196, L197]]   \n",
       "1                                         [[L198, L199]]   \n",
       "2             [[L200, L201], [L201, L202], [L202, L203]]   \n",
       "3                           [[L204, L205], [L205, L206]]   \n",
       "4                                         [[L207, L208]]   \n",
       "...                                                  ...   \n",
       "83092  [[L666324, L666325], [L666325, L666326], [L666...   \n",
       "83093                               [[L666575, L666576]]   \n",
       "83094                               [[L666256, L666257]]   \n",
       "83095  [[L666369, L666370], [L666370, L666371], [L666...   \n",
       "83096           [[L666520, L666521], [L666521, L666522]]   \n",
       "\n",
       "                                     Dialogue_Pairs_Text  \n",
       "0      [[Can we make this quick? Roxanne Korrine and ...  \n",
       "1      [[You're asking me out. That's so cute. What's...  \n",
       "2      [[No, no, it's my fault - we didn't have a pro...  \n",
       "3      [[Why?, Unsolved mystery. She used to be reall...  \n",
       "4      [[Gosh, if only we could find Kat a boyfriend....  \n",
       "...                                                  ...  \n",
       "83092  [[Do you think she might be interested in some...  \n",
       "83093  [[Choose your targets men. That's right Watch ...  \n",
       "83094  [[Colonel Durnford... William Vereker. I hear ...  \n",
       "83095  [[Your orders, Mr Vereker?, I'm to take the Si...  \n",
       "83096  [[Well I assure you, Sir, I have no desire to ...  \n",
       "\n",
       "[83097 rows x 6 columns]"
      ]
     },
     "execution_count": 29,
     "metadata": {},
     "output_type": "execute_result"
    }
   ],
   "source": [
    "movie_conversations"
   ]
  },
  {
   "cell_type": "code",
   "execution_count": 30,
   "id": "d35d2897",
   "metadata": {},
   "outputs": [
    {
     "data": {
      "text/plain": [
       "[['Can we make this quick? Roxanne Korrine and Andrew Barrett are having an incredibly horrendous public break-up on the quad. Again.',\n",
       "  \"Well, I thought we'd start with pronunciation, if that's okay with you.\"],\n",
       " [\"Well, I thought we'd start with pronunciation, if that's okay with you.\",\n",
       "  'Not the hacking and gagging and spitting part. Please.'],\n",
       " ['Not the hacking and gagging and spitting part. Please.',\n",
       "  \"Okay... then how 'bout we try out some French cuisine. Saturday? Night?\"]]"
      ]
     },
     "execution_count": 30,
     "metadata": {},
     "output_type": "execute_result"
    }
   ],
   "source": [
    "movie_conversations['Dialogue_Pairs_Text'][0]"
   ]
  },
  {
   "cell_type": "markdown",
   "id": "464ee175",
   "metadata": {},
   "source": [
    "Now that we have our lists of dialogue pair labels as lists of dialogue pair text, I use this new column to generate a new DataFrame. Before that, we convert the list of lists into individual lists."
   ]
  },
  {
   "cell_type": "code",
   "execution_count": 31,
   "id": "635c8acb",
   "metadata": {},
   "outputs": [],
   "source": [
    "# Using movie_conversations dataframe to generate individual (comment, reply) pairs\n",
    "individual_dialogue_pairs = []\n",
    "for pair_num in movie_conversations['Dialogue_Pairs_Text']:\n",
    "    for pair in pair_num:\n",
    "        individual_dialogue_pairs.append(pair)"
   ]
  },
  {
   "cell_type": "code",
   "execution_count": 32,
   "id": "f1d6b879",
   "metadata": {},
   "outputs": [
    {
     "data": {
      "text/plain": [
       "['Can we make this quick? Roxanne Korrine and Andrew Barrett are having an incredibly horrendous public break-up on the quad. Again.',\n",
       " \"Well, I thought we'd start with pronunciation, if that's okay with you.\"]"
      ]
     },
     "execution_count": 32,
     "metadata": {},
     "output_type": "execute_result"
    }
   ],
   "source": [
    "individual_dialogue_pairs[0]"
   ]
  },
  {
   "cell_type": "code",
   "execution_count": 33,
   "id": "9a9cf291",
   "metadata": {},
   "outputs": [],
   "source": [
    "# Defining new dataframe specifically for these Comment and Reply pairs\n",
    "columns = ['Comment', 'Reply']\n",
    "df = pd.DataFrame(individual_dialogue_pairs, columns=columns)"
   ]
  },
  {
   "cell_type": "code",
   "execution_count": 34,
   "id": "edb8b5b9",
   "metadata": {},
   "outputs": [
    {
     "data": {
      "text/html": [
       "<div>\n",
       "<style scoped>\n",
       "    .dataframe tbody tr th:only-of-type {\n",
       "        vertical-align: middle;\n",
       "    }\n",
       "\n",
       "    .dataframe tbody tr th {\n",
       "        vertical-align: top;\n",
       "    }\n",
       "\n",
       "    .dataframe thead th {\n",
       "        text-align: right;\n",
       "    }\n",
       "</style>\n",
       "<table border=\"1\" class=\"dataframe\">\n",
       "  <thead>\n",
       "    <tr style=\"text-align: right;\">\n",
       "      <th></th>\n",
       "      <th>Comment</th>\n",
       "      <th>Reply</th>\n",
       "    </tr>\n",
       "  </thead>\n",
       "  <tbody>\n",
       "    <tr>\n",
       "      <th>0</th>\n",
       "      <td>Can we make this quick? Roxanne Korrine and An...</td>\n",
       "      <td>Well, I thought we'd start with pronunciation,...</td>\n",
       "    </tr>\n",
       "    <tr>\n",
       "      <th>1</th>\n",
       "      <td>Well, I thought we'd start with pronunciation,...</td>\n",
       "      <td>Not the hacking and gagging and spitting part....</td>\n",
       "    </tr>\n",
       "    <tr>\n",
       "      <th>2</th>\n",
       "      <td>Not the hacking and gagging and spitting part....</td>\n",
       "      <td>Okay... then how 'bout we try out some French ...</td>\n",
       "    </tr>\n",
       "    <tr>\n",
       "      <th>3</th>\n",
       "      <td>You're asking me out. That's so cute. What's y...</td>\n",
       "      <td>Forget it.</td>\n",
       "    </tr>\n",
       "    <tr>\n",
       "      <th>4</th>\n",
       "      <td>No, no, it's my fault - we didn't have a prope...</td>\n",
       "      <td>Cameron.</td>\n",
       "    </tr>\n",
       "    <tr>\n",
       "      <th>...</th>\n",
       "      <td>...</td>\n",
       "      <td>...</td>\n",
       "    </tr>\n",
       "    <tr>\n",
       "      <th>221611</th>\n",
       "      <td>Your orders, Mr Vereker?</td>\n",
       "      <td>I'm to take the Sikali with the main column to...</td>\n",
       "    </tr>\n",
       "    <tr>\n",
       "      <th>221612</th>\n",
       "      <td>I'm to take the Sikali with the main column to...</td>\n",
       "      <td>Lord Chelmsford seems to want me to stay back ...</td>\n",
       "    </tr>\n",
       "    <tr>\n",
       "      <th>221613</th>\n",
       "      <td>Lord Chelmsford seems to want me to stay back ...</td>\n",
       "      <td>I think Chelmsford wants a good man on the bor...</td>\n",
       "    </tr>\n",
       "    <tr>\n",
       "      <th>221614</th>\n",
       "      <td>Well I assure you, Sir, I have no desire to cr...</td>\n",
       "      <td>And I assure you, you do not In fact I'd be ob...</td>\n",
       "    </tr>\n",
       "    <tr>\n",
       "      <th>221615</th>\n",
       "      <td>And I assure you, you do not In fact I'd be ob...</td>\n",
       "      <td>So far only their scouts. But we have had repo...</td>\n",
       "    </tr>\n",
       "  </tbody>\n",
       "</table>\n",
       "<p>221616 rows × 2 columns</p>\n",
       "</div>"
      ],
      "text/plain": [
       "                                                  Comment  \\\n",
       "0       Can we make this quick? Roxanne Korrine and An...   \n",
       "1       Well, I thought we'd start with pronunciation,...   \n",
       "2       Not the hacking and gagging and spitting part....   \n",
       "3       You're asking me out. That's so cute. What's y...   \n",
       "4       No, no, it's my fault - we didn't have a prope...   \n",
       "...                                                   ...   \n",
       "221611                           Your orders, Mr Vereker?   \n",
       "221612  I'm to take the Sikali with the main column to...   \n",
       "221613  Lord Chelmsford seems to want me to stay back ...   \n",
       "221614  Well I assure you, Sir, I have no desire to cr...   \n",
       "221615  And I assure you, you do not In fact I'd be ob...   \n",
       "\n",
       "                                                    Reply  \n",
       "0       Well, I thought we'd start with pronunciation,...  \n",
       "1       Not the hacking and gagging and spitting part....  \n",
       "2       Okay... then how 'bout we try out some French ...  \n",
       "3                                              Forget it.  \n",
       "4                                                Cameron.  \n",
       "...                                                   ...  \n",
       "221611  I'm to take the Sikali with the main column to...  \n",
       "221612  Lord Chelmsford seems to want me to stay back ...  \n",
       "221613  I think Chelmsford wants a good man on the bor...  \n",
       "221614  And I assure you, you do not In fact I'd be ob...  \n",
       "221615  So far only their scouts. But we have had repo...  \n",
       "\n",
       "[221616 rows x 2 columns]"
      ]
     },
     "execution_count": 34,
     "metadata": {},
     "output_type": "execute_result"
    }
   ],
   "source": [
    "df"
   ]
  },
  {
   "cell_type": "markdown",
   "id": "e604c343",
   "metadata": {},
   "source": [
    "While we have our text now, there could be text modifiers, strings like \"\\<b\\>\" or \"\\<\\/b\\>\" since they might be pulled from an online source. I would like to check to see if there are any in our dataset and replace them with white spaces."
   ]
  },
  {
   "cell_type": "code",
   "execution_count": 35,
   "id": "d42cdaee",
   "metadata": {
    "scrolled": false
   },
   "outputs": [
    {
     "data": {
      "text/plain": [
       "1883"
      ]
     },
     "execution_count": 35,
     "metadata": {},
     "output_type": "execute_result"
    }
   ],
   "source": [
    "# Checking number of cases with the character '<'\n",
    "num_of_lines = []\n",
    "for i, comment in enumerate(df['Comment']):\n",
    "    if '<' in comment:\n",
    "        num_of_lines.append(comment)\n",
    "len(num_of_lines) # There's quite a bit of them, it would appear"
   ]
  },
  {
   "cell_type": "markdown",
   "id": "6063ee79",
   "metadata": {},
   "source": [
    "We'll create a few functions to clean up these cases."
   ]
  },
  {
   "cell_type": "code",
   "execution_count": 36,
   "id": "9823d485",
   "metadata": {},
   "outputs": [],
   "source": [
    "# Defining function to replace text modifiers with white spaces\n",
    "def replace_modifiers(text):\n",
    "    text = text.replace('<b>',' ').replace('</b>',' ').replace('<B>',' ').replace('</B>',' ')\n",
    "    text = text.replace('<i>',' ').replace('</i>',' ').replace('<I>',' ').replace('</I>',' ')\n",
    "    text = text.replace('<u>',' ').replace('</u>',' ').replace('<U>',' ').replace('</U>',' ')\n",
    "    text = text.replace('<pre>',' ').replace('</pre>',' ').replace('<PRE>',' ').replace('</PRE>',' ')\n",
    "    text = text.replace('<html>',' ').replace('</html>',' ').replace('<HTML>',' ').replace('</HTML>',' ')\n",
    "    return text\n",
    "\n",
    "# Defining function to replace any special cases that are found with white spaces or text\n",
    "def remove_special_cases(text):\n",
    "    text = text.replace('<u<',' ')\n",
    "    text = text.replace('mrcroscope','microscope')\n",
    "    text = text.replace('L-A-U-G-H','laugh')\n",
    "    text = text.replace('G-d.','God.')\n",
    "    text = text.replace('nev-er','never')\n",
    "    return text"
   ]
  },
  {
   "cell_type": "code",
   "execution_count": 37,
   "id": "83faa782",
   "metadata": {},
   "outputs": [],
   "source": [
    "df['Comment'] = df['Comment'].apply(replace_modifiers)\n",
    "df['Comment'] = df['Comment'].apply(remove_special_cases)\n",
    "df['Reply'] = df['Reply'].apply(replace_modifiers)\n",
    "df['Reply'] = df['Reply'].apply(remove_special_cases)"
   ]
  },
  {
   "cell_type": "code",
   "execution_count": 38,
   "id": "49b8d9a9",
   "metadata": {},
   "outputs": [
    {
     "data": {
      "text/plain": [
       "[\"<Cardiac Red Alert> we're stopping the Heart.\",\n",
       " \"I don't mean to be inquisitive. But this <CMDF> - for all I know it could stand for <Consolidated Mobilization of Female Delinquents>?\",\n",
       " '<Combined Miniature Deterrent Forces>.',\n",
       " \"We can shrink an Army - with all its equipment - and put it in a bottle cap. That's why we call it <Combined Miniature Deterrent Forces>.\",\n",
       " \"You mean <I'm> going along?\",\n",
       " \"Wait a minute! They can't shrink <me>!\",\n",
       " \"I'll be standing by. <I'll> know.\",\n",
       " 'Never saw <that>. Not even under an electron-microscope.',\n",
       " \"I'll do nothing of the sort! The operation is <my> responsibility! I won't do it, and that's final!\",\n",
       " \"The Medieval Philosophers were right... <Man> is the center of the Universe... We stand in the middle of Infinity, between Outer and Inner Space. And there's no limit to either.\",\n",
       " 'Cough? If he can kick up a storm by just <breathing> - ',\n",
       " \"We feel great, don't we? Just <great>?!\",\n",
       " '<<belch>>']"
      ]
     },
     "execution_count": 38,
     "metadata": {},
     "output_type": "execute_result"
    }
   ],
   "source": [
    "num_of_lines = []\n",
    "for i, comment in enumerate(df['Comment']):\n",
    "    if '<' in comment:\n",
    "        num_of_lines.append(comment)\n",
    "num_of_lines"
   ]
  },
  {
   "cell_type": "code",
   "execution_count": 39,
   "id": "2dd4505f",
   "metadata": {},
   "outputs": [
    {
     "data": {
      "text/plain": [
       "[\"<Cardiac Red Alert> we're stopping the Heart.\",\n",
       " \"I don't mean to be inquisitive. But this <CMDF> - for all I know it could stand for <Consolidated Mobilization of Female Delinquents>?\",\n",
       " '<Combined Miniature Deterrent Forces>.',\n",
       " \"We can shrink an Army - with all its equipment - and put it in a bottle cap. That's why we call it <Combined Miniature Deterrent Forces>.\",\n",
       " \"You mean <I'm> going along?\",\n",
       " \"Wait a minute! They can't shrink <me>!\",\n",
       " \"I'll be standing by. <I'll> know.\",\n",
       " 'Never saw <that>. Not even under an electron-microscope.',\n",
       " \"I'll do nothing of the sort! The operation is <my> responsibility! I won't do it, and that's final!\",\n",
       " \"The Medieval Philosophers were right... <Man> is the center of the Universe... We stand in the middle of Infinity, between Outer and Inner Space. And there's no limit to either.\",\n",
       " 'Cough? If he can kick up a storm by just <breathing> - ',\n",
       " \"We feel great, don't we? Just <great>?!\",\n",
       " '<<belch>>',\n",
       " 'I gotta know... did it work>',\n",
       " '\"Wilt thou be gone? It is not yet near day> It was the nightingale and not the lark That pierced the fearful hollow of thine ear. Nightly she sings on yon pomegranate tree. Believe me, love, it was the nightingale.\"']"
      ]
     },
     "execution_count": 39,
     "metadata": {},
     "output_type": "execute_result"
    }
   ],
   "source": [
    "num_of_lines = []\n",
    "for i, comment in enumerate(df['Comment']):\n",
    "    if '>' in comment:\n",
    "        num_of_lines.append(comment)\n",
    "num_of_lines"
   ]
  },
  {
   "cell_type": "code",
   "execution_count": 40,
   "id": "c17ca8d1",
   "metadata": {},
   "outputs": [
    {
     "data": {
      "text/plain": [
       "[\"< Maybe it's something in the water.\",\n",
       " '<Me>?',\n",
       " '<Combined Miniature Deterrent Forces>.',\n",
       " \"We can shrink an Army - with all its equipment - and put it in a bottle cap. That's why we call it <Combined Miniature Deterrent Forces>.\",\n",
       " \"You mean <I'm> going along?\",\n",
       " \"Wait a minute! They can't shrink <me>!\",\n",
       " \"And no matter what happens, you're to take orders <only> from Dr. Michaels, understand?\",\n",
       " \"I'll do nothing of the sort! The operation is <my> responsibility! I won't do it, and that's final!\",\n",
       " 'It I can clear this Central Nerve, that <may> be enough...',\n",
       " 'Cough? If he can kick up a storm by just <breathing> - ',\n",
       " \"Nothing has changed as far as <my> authority goes! He is <not> going to operate! Not in the little time we have left! There's no chance of success! It's sheer suicide for all of us!\",\n",
       " \"We feel great, don't we? Just <great>?!\",\n",
       " '<<belch>>']"
      ]
     },
     "execution_count": 40,
     "metadata": {},
     "output_type": "execute_result"
    }
   ],
   "source": [
    "num_of_lines = []\n",
    "for i, comment in enumerate(df['Reply']):\n",
    "    if '<' in comment:\n",
    "        num_of_lines.append(comment)\n",
    "num_of_lines"
   ]
  },
  {
   "cell_type": "code",
   "execution_count": 41,
   "id": "0b7de281",
   "metadata": {},
   "outputs": [
    {
     "data": {
      "text/plain": [
       "['<Me>?',\n",
       " '<Combined Miniature Deterrent Forces>.',\n",
       " \"We can shrink an Army - with all its equipment - and put it in a bottle cap. That's why we call it <Combined Miniature Deterrent Forces>.\",\n",
       " \"You mean <I'm> going along?\",\n",
       " \"Wait a minute! They can't shrink <me>!\",\n",
       " \"And no matter what happens, you're to take orders <only> from Dr. Michaels, understand?\",\n",
       " \"I'll do nothing of the sort! The operation is <my> responsibility! I won't do it, and that's final!\",\n",
       " 'It I can clear this Central Nerve, that <may> be enough...',\n",
       " 'Cough? If he can kick up a storm by just <breathing> - ',\n",
       " \"Nothing has changed as far as <my> authority goes! He is <not> going to operate! Not in the little time we have left! There's no chance of success! It's sheer suicide for all of us!\",\n",
       " \"We feel great, don't we? Just <great>?!\",\n",
       " '<<belch>>',\n",
       " '\"Wilt thou be gone? It is not yet near day> It was the nightingale and not the lark That pierced the fearful hollow of thine ear. Nightly she sings on yon pomegranate tree. Believe me, love, it was the nightingale.\"']"
      ]
     },
     "execution_count": 41,
     "metadata": {},
     "output_type": "execute_result"
    }
   ],
   "source": [
    "num_of_lines = []\n",
    "for i, comment in enumerate(df['Reply']):\n",
    "    if '>' in comment:\n",
    "        num_of_lines.append(comment)\n",
    "num_of_lines"
   ]
  },
  {
   "cell_type": "markdown",
   "id": "d9bd0477",
   "metadata": {},
   "source": [
    "The problem seems to be mostly resolved. The rest of these cases could be fixed when we remove punctuations later on.\n",
    "\n",
    "In text, abbreviations and acronyms are typically used to shorten lengthy names such as the United States (U.S.) or the National Basketball Association (NBA). In our case, we could try and remove dots from abbreviations and acronyms to simplify our text."
   ]
  },
  {
   "cell_type": "code",
   "execution_count": 42,
   "id": "ceed361c",
   "metadata": {},
   "outputs": [],
   "source": [
    "# Defining function to remove dots from text\n",
    "def remove_dots(text):\n",
    "    return text.replace('.','')"
   ]
  },
  {
   "cell_type": "code",
   "execution_count": 43,
   "id": "30b2a176",
   "metadata": {},
   "outputs": [],
   "source": [
    "# Applying remove_dots() to DataFrames\n",
    "df[\"Comment\"] = df['Comment'].apply(remove_dots)\n",
    "df['Reply'] = df['Reply'].apply(remove_dots)"
   ]
  },
  {
   "cell_type": "markdown",
   "id": "d2ee209d",
   "metadata": {},
   "source": [
    "Now that we have our dialogue pairs, we'll clean the data up a bit more by first expanding any word contraction. To do this, I create a function called expand_contractions() to do this."
   ]
  },
  {
   "cell_type": "code",
   "execution_count": 44,
   "id": "2b9219ce",
   "metadata": {},
   "outputs": [],
   "source": [
    "# Defining function to expand contractions\n",
    "def expand_contractions(text):\n",
    "    expanded = [''.join(contractions_dict.get(i,i)) for i in text.lower().split()]\n",
    "    return ' '.join(expanded)"
   ]
  },
  {
   "cell_type": "code",
   "execution_count": 45,
   "id": "e8ccd8b0",
   "metadata": {},
   "outputs": [],
   "source": [
    "# Dictionary of English Contractions\n",
    "contractions_dict = {\"i'm\":\"i am\",\"i'd\":\"i would\",\"i'll\":\"i will\",\"i've\":\"i have\",\"isn't\":\"is not\",\n",
    "                     \"you're\":\"you are\",\"you've\":\"you have\",\"you'll\":\"you will\",\n",
    "                     \"you'd\":\"you would\",\"he's\":\"he is\",\"he'll\":\"he will\",\n",
    "                     \"he'd\":\"he would\",\"she's\":\"she is\",\"she'll\":\"she will\",\n",
    "                     \"she'd\":\"she would\",\"it's\":\"it is\",\"it'll\":\"it will\",\n",
    "                     \"it'd\":\"it would\",\"we're\":\"we are\",\"we'd\":\"we would\",\n",
    "                     \"we'll\":\"we will\",\"we've\":\"we have\",\"they're\":\"they are\",\n",
    "                     \"they'd\":\"they had\",\"they've\":\"they have\",\"they'll\":\"they will\",\n",
    "                     \"somebody'll\":\"somebody will\",\"who's\":\"who is\",\"who're\":\"who are\",\n",
    "                     \"who've\":\"who have\",\"who'd\":\"who would\",\"who'll\":\"who will\",\n",
    "                     \"what's\":\"what is\",\"what're\":\"what are\",\"what've\":\"what have\",\"what'd\":\"what had\",\n",
    "                     \"what'll\":\"what will\",\"when's\":\"when is\",\"when'll\":\"when will\",\n",
    "                     \"why's\":\"why is\",\"why'd\":\"why would\",\"why'll\":\"why will\",\n",
    "                     \"why're\":\"why are\",\"how's\":\"how is\",\"how're\":\"how are\",\n",
    "                     \"how've\":\"how have\",\"how'll\":\"how will\",\"how'd\":\"how would\",\n",
    "                     \"which's\":\"which is\",\"which'd\":\"which would\",\"which'll\":\"which will\",\n",
    "                     \"this'll\":\"this will\",\"these're\":\"these are\",\"these'll\":\"these will\",\n",
    "                     \"that's\":\"that is\",\"that'd\":\"that would\",\"that'll\":\"that will\",\n",
    "                     \"those're\":\"those are\",\"those'd\":\"those would\",\"those'll\":\"those will\",\n",
    "                     \"here's\":\"here is\",\"here're\":\"here are\",\"here'd\":\"here would\",\n",
    "                     \"here'll\":\"here will\",\"there's\":\"there is\",\"there're\":\"there are\",\n",
    "                     \"there'd\":\"there would\",\"there'll\":\"there will\",\"ain't\":\"is not\",\n",
    "                     \"aren't\":\"are not\",\"wasn't\":\"was not\",\"weren't\":\"were not\",\n",
    "                     \"won't\":\"will not\",\"will've\":\"will have\",\"can't\":\"cannot\",\n",
    "                     \"couldn't\":\"could not\",\"could've\":\"could have\",\"shouldn't\":\"should have\",\n",
    "                     \"should've\":\"should have\",\"wouldn't\":\"would not\",\"would've\":\"would have\",\n",
    "                     \"might've\":\"might have\",\"mustn't\":\"must not\",\"must've\":\"must have\",\n",
    "                     \"don't\":\"do not\",\"doesn't\":\"does not\",\"didn't\":\"did not\",\n",
    "                     \"haven't\":\"have not\",\"hadn't\":\"had not\",\"gimme\":\"give me\",\n",
    "                     \"imma\":\"I am about to\",\"gonna\":\"going to\",\"wanna\":\"want to\",\n",
    "                     \"hafta\":\"have to\",\"woulda\":\"would have\",\"coulda\":\"could have\",\n",
    "                     \"shoulda\":\"should have\",\"ma'am\":\"madam\",\"howdy\":\"how do you do\",\n",
    "                     \"let's\":\"let us\",\"y'all\":\"you all\",\"a'ight\":\"alright\",\"'bout\":\"about\",\n",
    "                     \"cap'n\":\"captain\",\"'cause\":\"because\",\"'cept\":\"except\",\"dammit\":\"damn it\",\n",
    "                     \"'em\":\"them\",\"g'day\":\"good day\",\"gotta\":\"got to\",\"helluva\":\"hell of a\",\n",
    "                     \"i'd've\":\"i would have\",\"innit\":\"is it not\",\"iunno\":\"i do not know\",\n",
    "                     \"kinda\":\"kind of\",\"methinks\":\"i think\",\"'neath\":\"beneath\",\n",
    "                     \"needn't\":\"need not\",\"'round\":\"around\",\"oughtn't\":\"ought not\",\n",
    "                     \"ol'\":\"old\",\"shan't\":\"shall not\",\"'til\":\"until\",\"'tis\":\"it is\",\n",
    "                     \"'twas\":\"it was\",\"'tween\":\"between\",\"'twere\":\"it were\",\n",
    "                     \"whatcha\":\"what are you\",\"y'all'd've\":\"you all would have\",\n",
    "                     \"y'all'd'n't've\":\"you all would not have\",\"y'all're\":\"you all are\",\n",
    "                     \"y'at\":\"you at\",\"yes'm\":\"yes madam\",\"yessir\":\"yes sir\",\"ain't\":\"is not\"}"
   ]
  },
  {
   "cell_type": "code",
   "execution_count": 46,
   "id": "631f3353",
   "metadata": {},
   "outputs": [],
   "source": [
    "# Expanding contractions in our data using expand_contractions\n",
    "df[\"Expanded Comment\"] = df['Comment'].apply(expand_contractions)\n",
    "df['Expanded Reply'] = df['Reply'].apply(expand_contractions)"
   ]
  },
  {
   "cell_type": "code",
   "execution_count": 47,
   "id": "e8b816aa",
   "metadata": {
    "scrolled": false
   },
   "outputs": [
    {
     "data": {
      "text/html": [
       "<div>\n",
       "<style scoped>\n",
       "    .dataframe tbody tr th:only-of-type {\n",
       "        vertical-align: middle;\n",
       "    }\n",
       "\n",
       "    .dataframe tbody tr th {\n",
       "        vertical-align: top;\n",
       "    }\n",
       "\n",
       "    .dataframe thead th {\n",
       "        text-align: right;\n",
       "    }\n",
       "</style>\n",
       "<table border=\"1\" class=\"dataframe\">\n",
       "  <thead>\n",
       "    <tr style=\"text-align: right;\">\n",
       "      <th></th>\n",
       "      <th>Comment</th>\n",
       "      <th>Reply</th>\n",
       "      <th>Expanded Comment</th>\n",
       "      <th>Expanded Reply</th>\n",
       "    </tr>\n",
       "  </thead>\n",
       "  <tbody>\n",
       "    <tr>\n",
       "      <th>0</th>\n",
       "      <td>Can we make this quick? Roxanne Korrine and An...</td>\n",
       "      <td>Well, I thought we'd start with pronunciation,...</td>\n",
       "      <td>can we make this quick? roxanne korrine and an...</td>\n",
       "      <td>well, i thought we would start with pronunciat...</td>\n",
       "    </tr>\n",
       "    <tr>\n",
       "      <th>1</th>\n",
       "      <td>Well, I thought we'd start with pronunciation,...</td>\n",
       "      <td>Not the hacking and gagging and spitting part ...</td>\n",
       "      <td>well, i thought we would start with pronunciat...</td>\n",
       "      <td>not the hacking and gagging and spitting part ...</td>\n",
       "    </tr>\n",
       "    <tr>\n",
       "      <th>2</th>\n",
       "      <td>Not the hacking and gagging and spitting part ...</td>\n",
       "      <td>Okay then how 'bout we try out some French cui...</td>\n",
       "      <td>not the hacking and gagging and spitting part ...</td>\n",
       "      <td>okay then how about we try out some french cui...</td>\n",
       "    </tr>\n",
       "    <tr>\n",
       "      <th>3</th>\n",
       "      <td>You're asking me out That's so cute What's you...</td>\n",
       "      <td>Forget it</td>\n",
       "      <td>you are asking me out that is so cute what is ...</td>\n",
       "      <td>forget it</td>\n",
       "    </tr>\n",
       "    <tr>\n",
       "      <th>4</th>\n",
       "      <td>No, no, it's my fault - we didn't have a prope...</td>\n",
       "      <td>Cameron</td>\n",
       "      <td>no, no, it is my fault - we did not have a pro...</td>\n",
       "      <td>cameron</td>\n",
       "    </tr>\n",
       "    <tr>\n",
       "      <th>...</th>\n",
       "      <td>...</td>\n",
       "      <td>...</td>\n",
       "      <td>...</td>\n",
       "      <td>...</td>\n",
       "    </tr>\n",
       "    <tr>\n",
       "      <th>221611</th>\n",
       "      <td>Your orders, Mr Vereker?</td>\n",
       "      <td>I'm to take the Sikali with the main column to...</td>\n",
       "      <td>your orders, mr vereker?</td>\n",
       "      <td>i am to take the sikali with the main column t...</td>\n",
       "    </tr>\n",
       "    <tr>\n",
       "      <th>221612</th>\n",
       "      <td>I'm to take the Sikali with the main column to...</td>\n",
       "      <td>Lord Chelmsford seems to want me to stay back ...</td>\n",
       "      <td>i am to take the sikali with the main column t...</td>\n",
       "      <td>lord chelmsford seems to want me to stay back ...</td>\n",
       "    </tr>\n",
       "    <tr>\n",
       "      <th>221613</th>\n",
       "      <td>Lord Chelmsford seems to want me to stay back ...</td>\n",
       "      <td>I think Chelmsford wants a good man on the bor...</td>\n",
       "      <td>lord chelmsford seems to want me to stay back ...</td>\n",
       "      <td>i think chelmsford wants a good man on the bor...</td>\n",
       "    </tr>\n",
       "    <tr>\n",
       "      <th>221614</th>\n",
       "      <td>Well I assure you, Sir, I have no desire to cr...</td>\n",
       "      <td>And I assure you, you do not In fact I'd be ob...</td>\n",
       "      <td>well i assure you, sir, i have no desire to cr...</td>\n",
       "      <td>and i assure you, you do not in fact i would b...</td>\n",
       "    </tr>\n",
       "    <tr>\n",
       "      <th>221615</th>\n",
       "      <td>And I assure you, you do not In fact I'd be ob...</td>\n",
       "      <td>So far only their scouts But we have had repor...</td>\n",
       "      <td>and i assure you, you do not in fact i would b...</td>\n",
       "      <td>so far only their scouts but we have had repor...</td>\n",
       "    </tr>\n",
       "  </tbody>\n",
       "</table>\n",
       "<p>221616 rows × 4 columns</p>\n",
       "</div>"
      ],
      "text/plain": [
       "                                                  Comment  \\\n",
       "0       Can we make this quick? Roxanne Korrine and An...   \n",
       "1       Well, I thought we'd start with pronunciation,...   \n",
       "2       Not the hacking and gagging and spitting part ...   \n",
       "3       You're asking me out That's so cute What's you...   \n",
       "4       No, no, it's my fault - we didn't have a prope...   \n",
       "...                                                   ...   \n",
       "221611                           Your orders, Mr Vereker?   \n",
       "221612  I'm to take the Sikali with the main column to...   \n",
       "221613  Lord Chelmsford seems to want me to stay back ...   \n",
       "221614  Well I assure you, Sir, I have no desire to cr...   \n",
       "221615  And I assure you, you do not In fact I'd be ob...   \n",
       "\n",
       "                                                    Reply  \\\n",
       "0       Well, I thought we'd start with pronunciation,...   \n",
       "1       Not the hacking and gagging and spitting part ...   \n",
       "2       Okay then how 'bout we try out some French cui...   \n",
       "3                                               Forget it   \n",
       "4                                                 Cameron   \n",
       "...                                                   ...   \n",
       "221611  I'm to take the Sikali with the main column to...   \n",
       "221612  Lord Chelmsford seems to want me to stay back ...   \n",
       "221613  I think Chelmsford wants a good man on the bor...   \n",
       "221614  And I assure you, you do not In fact I'd be ob...   \n",
       "221615  So far only their scouts But we have had repor...   \n",
       "\n",
       "                                         Expanded Comment  \\\n",
       "0       can we make this quick? roxanne korrine and an...   \n",
       "1       well, i thought we would start with pronunciat...   \n",
       "2       not the hacking and gagging and spitting part ...   \n",
       "3       you are asking me out that is so cute what is ...   \n",
       "4       no, no, it is my fault - we did not have a pro...   \n",
       "...                                                   ...   \n",
       "221611                           your orders, mr vereker?   \n",
       "221612  i am to take the sikali with the main column t...   \n",
       "221613  lord chelmsford seems to want me to stay back ...   \n",
       "221614  well i assure you, sir, i have no desire to cr...   \n",
       "221615  and i assure you, you do not in fact i would b...   \n",
       "\n",
       "                                           Expanded Reply  \n",
       "0       well, i thought we would start with pronunciat...  \n",
       "1       not the hacking and gagging and spitting part ...  \n",
       "2       okay then how about we try out some french cui...  \n",
       "3                                               forget it  \n",
       "4                                                 cameron  \n",
       "...                                                   ...  \n",
       "221611  i am to take the sikali with the main column t...  \n",
       "221612  lord chelmsford seems to want me to stay back ...  \n",
       "221613  i think chelmsford wants a good man on the bor...  \n",
       "221614  and i assure you, you do not in fact i would b...  \n",
       "221615  so far only their scouts but we have had repor...  \n",
       "\n",
       "[221616 rows x 4 columns]"
      ]
     },
     "execution_count": 47,
     "metadata": {},
     "output_type": "execute_result"
    }
   ],
   "source": [
    "df"
   ]
  },
  {
   "cell_type": "markdown",
   "id": "5fa94600",
   "metadata": {},
   "source": [
    "Now that we have our data properly organized in the format that we wanted, let's explore our data a bit before exporting it. "
   ]
  },
  {
   "cell_type": "code",
   "execution_count": 48,
   "id": "fdaac694",
   "metadata": {},
   "outputs": [],
   "source": [
    "# Exploring the data a bit\n",
    "df['Comment Length'] = df['Expanded Comment'].str.split().apply(lambda x: len(x))\n",
    "df['Reply Length'] = df['Expanded Reply'].str.split().apply(lambda x: len(x))"
   ]
  },
  {
   "cell_type": "code",
   "execution_count": 49,
   "id": "4bcb5694",
   "metadata": {},
   "outputs": [
    {
     "data": {
      "text/plain": [
       "count    221616.000000\n",
       "mean         10.798318\n",
       "std          11.910792\n",
       "min           0.000000\n",
       "25%           4.000000\n",
       "50%           7.000000\n",
       "75%          13.000000\n",
       "max         319.000000\n",
       "Name: Comment Length, dtype: float64"
      ]
     },
     "execution_count": 49,
     "metadata": {},
     "output_type": "execute_result"
    }
   ],
   "source": [
    "df[\"Comment Length\"].describe()"
   ]
  },
  {
   "cell_type": "code",
   "execution_count": 50,
   "id": "57a1d8d3",
   "metadata": {},
   "outputs": [
    {
     "data": {
      "text/plain": [
       "count    221616.00000\n",
       "mean         11.18361\n",
       "std          12.73379\n",
       "min           0.00000\n",
       "25%           4.00000\n",
       "50%           7.00000\n",
       "75%          14.00000\n",
       "max         556.00000\n",
       "Name: Reply Length, dtype: float64"
      ]
     },
     "execution_count": 50,
     "metadata": {},
     "output_type": "execute_result"
    }
   ],
   "source": [
    "df[\"Reply Length\"].describe()"
   ]
  },
  {
   "cell_type": "markdown",
   "id": "037efb65",
   "metadata": {},
   "source": [
    "There appears to be dialogue lines with hundreds of words."
   ]
  },
  {
   "cell_type": "code",
   "execution_count": 51,
   "id": "9990c83f",
   "metadata": {},
   "outputs": [
    {
     "data": {
      "text/html": [
       "<div>\n",
       "<style scoped>\n",
       "    .dataframe tbody tr th:only-of-type {\n",
       "        vertical-align: middle;\n",
       "    }\n",
       "\n",
       "    .dataframe tbody tr th {\n",
       "        vertical-align: top;\n",
       "    }\n",
       "\n",
       "    .dataframe thead th {\n",
       "        text-align: right;\n",
       "    }\n",
       "</style>\n",
       "<table border=\"1\" class=\"dataframe\">\n",
       "  <thead>\n",
       "    <tr style=\"text-align: right;\">\n",
       "      <th></th>\n",
       "      <th>Comment</th>\n",
       "      <th>Reply</th>\n",
       "      <th>Expanded Comment</th>\n",
       "      <th>Expanded Reply</th>\n",
       "      <th>Comment Length</th>\n",
       "      <th>Reply Length</th>\n",
       "    </tr>\n",
       "  </thead>\n",
       "  <tbody>\n",
       "    <tr>\n",
       "      <th>35134</th>\n",
       "      <td>Yeah Yeah It bothers me a lot 'Cause, you see,...</td>\n",
       "      <td>You're not a loser, Eddie You're a winner Some...</td>\n",
       "      <td>yeah yeah it bothers me a lot 'cause, you see,...</td>\n",
       "      <td>you are not a loser, eddie you are a winner so...</td>\n",
       "      <td>306</td>\n",
       "      <td>24</td>\n",
       "    </tr>\n",
       "    <tr>\n",
       "      <th>135505</th>\n",
       "      <td>When you dropped me off at the house, it was v...</td>\n",
       "      <td>It's all right, you're all right I'm with you</td>\n",
       "      <td>when you dropped me off at the house, it was v...</td>\n",
       "      <td>it is all right, you are all right i am with you</td>\n",
       "      <td>319</td>\n",
       "      <td>12</td>\n",
       "    </tr>\n",
       "    <tr>\n",
       "      <th>188466</th>\n",
       "      <td>Anyway, it's hard to live gay, that's the righ...</td>\n",
       "      <td>I wouldn't never hurt them</td>\n",
       "      <td>anyway, it is hard to live gay, that is the ri...</td>\n",
       "      <td>i would not never hurt them</td>\n",
       "      <td>319</td>\n",
       "      <td>6</td>\n",
       "    </tr>\n",
       "  </tbody>\n",
       "</table>\n",
       "</div>"
      ],
      "text/plain": [
       "                                                  Comment  \\\n",
       "35134   Yeah Yeah It bothers me a lot 'Cause, you see,...   \n",
       "135505  When you dropped me off at the house, it was v...   \n",
       "188466  Anyway, it's hard to live gay, that's the righ...   \n",
       "\n",
       "                                                    Reply  \\\n",
       "35134   You're not a loser, Eddie You're a winner Some...   \n",
       "135505      It's all right, you're all right I'm with you   \n",
       "188466                         I wouldn't never hurt them   \n",
       "\n",
       "                                         Expanded Comment  \\\n",
       "35134   yeah yeah it bothers me a lot 'cause, you see,...   \n",
       "135505  when you dropped me off at the house, it was v...   \n",
       "188466  anyway, it is hard to live gay, that is the ri...   \n",
       "\n",
       "                                           Expanded Reply  Comment Length  \\\n",
       "35134   you are not a loser, eddie you are a winner so...             306   \n",
       "135505   it is all right, you are all right i am with you             319   \n",
       "188466                        i would not never hurt them             319   \n",
       "\n",
       "        Reply Length  \n",
       "35134             24  \n",
       "135505            12  \n",
       "188466             6  "
      ]
     },
     "execution_count": 51,
     "metadata": {},
     "output_type": "execute_result"
    }
   ],
   "source": [
    "df[df[\"Comment Length\"] > 300]"
   ]
  },
  {
   "cell_type": "markdown",
   "id": "1afca46a",
   "metadata": {},
   "source": [
    "There also seem to have quite a few '�' in our data."
   ]
  },
  {
   "cell_type": "code",
   "execution_count": 52,
   "id": "e183910d",
   "metadata": {},
   "outputs": [
    {
     "data": {
      "text/plain": [
       "'just a minute -- just a minute now, hold on, mr potter you are right when you say my father was no business man i know that why he ever started this cheap, penny-ante building and loan, i will never know but neither you nor anybody else can say anything against his character, because his whole life was why, in the twenty-five years since he and uncle billy started this thing, he never once thought of himself is not that right, uncle billy? he did not save enough money to send harry to school, let alone me but he did help a few people get out of your slums, mr potter and what is wrong with that? why here, you are all businessmen here does not it make them better citizens? does not it make them better customers? you you said what had you say just a minute ago? they had to wait and save their money before they even ought to think of a decent home wait! wait for what? until their children grow up and leave them? until they are so old and broken-down that they do you know how long it takes a working man to save five thousand dollars? just remember this, mr potter, that this rabble you are talking about they do most of the working and paying and living and dying in this community well, is it too much to have them work and pay and live and die in a couple of decent rooms and a bath? anyway, my father did not think so people were human beings to him, but to you, a warped, frustrated old man, they are cattle well, in my book he died a much richer man than you will ever be!'"
      ]
     },
     "execution_count": 52,
     "metadata": {},
     "output_type": "execute_result"
    }
   ],
   "source": [
    "df['Expanded Comment'].loc[149521].replace('�', '-')"
   ]
  },
  {
   "cell_type": "markdown",
   "id": "76b1e7bd",
   "metadata": {},
   "source": [
    "Considering that there are still special characters in our text, the data still needs a bit of cleaning. For that I defined a function replace_special_characters() to replace the special characters as dashes. We'll also formatted such that the doubled dashes are converted into single dashes, like what we did before."
   ]
  },
  {
   "cell_type": "code",
   "execution_count": 53,
   "id": "556d2032",
   "metadata": {},
   "outputs": [],
   "source": [
    "# Defining function to replace special characters\n",
    "def replace_special_characters(text):\n",
    "    no_specials = text.replace('�', '-')\n",
    "    double_to_single_dash = no_specials.replace('--', '-')\n",
    "    return double_to_single_dash"
   ]
  },
  {
   "cell_type": "code",
   "execution_count": 54,
   "id": "174aaef4",
   "metadata": {},
   "outputs": [],
   "source": [
    "# Applying replace_special_characters() to all our columns\n",
    "df['Comment'] = df['Comment'].apply(replace_special_characters)\n",
    "df['Reply'] = df['Reply'].apply(replace_special_characters)\n",
    "df['Expanded Comment'] = df['Expanded Comment'].apply(replace_special_characters)\n",
    "df['Expanded Reply'] = df['Expanded Reply'].apply(replace_special_characters)"
   ]
  },
  {
   "cell_type": "code",
   "execution_count": 55,
   "id": "3949d313",
   "metadata": {},
   "outputs": [
    {
     "data": {
      "text/plain": [
       "'just a minute - just a minute now, hold on, mr potter you are right when you say my father was no business man i know that why he ever started this cheap, penny-ante building and loan, i will never know but neither you nor anybody else can say anything against his character, because his whole life was why, in the twenty-five years since he and uncle billy started this thing, he never once thought of himself is not that right, uncle billy? he did not save enough money to send harry to school, let alone me but he did help a few people get out of your slums, mr potter and what is wrong with that? why here, you are all businessmen here does not it make them better citizens? does not it make them better customers? you you said what had you say just a minute ago? they had to wait and save their money before they even ought to think of a decent home wait! wait for what? until their children grow up and leave them? until they are so old and broken-down that they do you know how long it takes a working man to save five thousand dollars? just remember this, mr potter, that this rabble you are talking about they do most of the working and paying and living and dying in this community well, is it too much to have them work and pay and live and die in a couple of decent rooms and a bath? anyway, my father did not think so people were human beings to him, but to you, a warped, frustrated old man, they are cattle well, in my book he died a much richer man than you will ever be!'"
      ]
     },
     "execution_count": 55,
     "metadata": {},
     "output_type": "execute_result"
    }
   ],
   "source": [
    "df['Expanded Comment'].loc[149521]"
   ]
  },
  {
   "cell_type": "markdown",
   "id": "8e5b233b",
   "metadata": {},
   "source": [
    "For Natural Language Processing (NLP), punctuations are typically stripped during the process. We'll pre-emptively perform the task by creating a function remove_punctuation()."
   ]
  },
  {
   "cell_type": "code",
   "execution_count": 56,
   "id": "30c3b624",
   "metadata": {},
   "outputs": [],
   "source": [
    "# Defining function to replace punctuations with white space\n",
    "# https://stackoverflow.com/questions/34860982/replace-the-punctuation-with-whitespace/34922745\n",
    "def replace_punctuation_with_space(text):\n",
    "    return text.translate(str.maketrans(string.punctuation, ' '*len(string.punctuation)))"
   ]
  },
  {
   "cell_type": "code",
   "execution_count": 57,
   "id": "366e35ee",
   "metadata": {},
   "outputs": [],
   "source": [
    "# Applying replace_punctuation_with_space() to our DataFrame columns\n",
    "df['Expanded Comment'] = df['Expanded Comment'].apply(replace_punctuation_with_space)\n",
    "df['Expanded Reply'] = df['Expanded Reply'].apply(replace_punctuation_with_space)"
   ]
  },
  {
   "cell_type": "code",
   "execution_count": 58,
   "id": "ce4716bd",
   "metadata": {},
   "outputs": [
    {
     "data": {
      "text/plain": [
       "'just a minute   just a minute now  hold on  mr potter you are right when you say my father was no business man i know that why he ever started this cheap  penny ante building and loan  i will never know but neither you nor anybody else can say anything against his character  because his whole life was why  in the twenty five years since he and uncle billy started this thing  he never once thought of himself is not that right  uncle billy  he did not save enough money to send harry to school  let alone me but he did help a few people get out of your slums  mr potter and what is wrong with that  why here  you are all businessmen here does not it make them better citizens  does not it make them better customers  you you said what had you say just a minute ago  they had to wait and save their money before they even ought to think of a decent home wait  wait for what  until their children grow up and leave them  until they are so old and broken down that they do you know how long it takes a working man to save five thousand dollars  just remember this  mr potter  that this rabble you are talking about they do most of the working and paying and living and dying in this community well  is it too much to have them work and pay and live and die in a couple of decent rooms and a bath  anyway  my father did not think so people were human beings to him  but to you  a warped  frustrated old man  they are cattle well  in my book he died a much richer man than you will ever be '"
      ]
     },
     "execution_count": 58,
     "metadata": {},
     "output_type": "execute_result"
    }
   ],
   "source": [
    "df['Expanded Comment'].loc[149521]"
   ]
  },
  {
   "cell_type": "code",
   "execution_count": 59,
   "id": "50858c0e",
   "metadata": {},
   "outputs": [],
   "source": [
    "# Removing any extraneous spaces in our expanded columns\n",
    "df['Expanded Comment'] = df['Expanded Comment'].apply(lambda x: ' '.join(x.split()))\n",
    "df['Expanded Reply'] = df['Expanded Reply'].apply(lambda x: ' '.join(x.split()))"
   ]
  },
  {
   "cell_type": "code",
   "execution_count": 60,
   "id": "48bd7111",
   "metadata": {},
   "outputs": [
    {
     "data": {
      "text/plain": [
       "'just a minute just a minute now hold on mr potter you are right when you say my father was no business man i know that why he ever started this cheap penny ante building and loan i will never know but neither you nor anybody else can say anything against his character because his whole life was why in the twenty five years since he and uncle billy started this thing he never once thought of himself is not that right uncle billy he did not save enough money to send harry to school let alone me but he did help a few people get out of your slums mr potter and what is wrong with that why here you are all businessmen here does not it make them better citizens does not it make them better customers you you said what had you say just a minute ago they had to wait and save their money before they even ought to think of a decent home wait wait for what until their children grow up and leave them until they are so old and broken down that they do you know how long it takes a working man to save five thousand dollars just remember this mr potter that this rabble you are talking about they do most of the working and paying and living and dying in this community well is it too much to have them work and pay and live and die in a couple of decent rooms and a bath anyway my father did not think so people were human beings to him but to you a warped frustrated old man they are cattle well in my book he died a much richer man than you will ever be'"
      ]
     },
     "execution_count": 60,
     "metadata": {},
     "output_type": "execute_result"
    }
   ],
   "source": [
    "df['Expanded Comment'].loc[149521]"
   ]
  },
  {
   "cell_type": "code",
   "execution_count": 61,
   "id": "3a9d9ec7",
   "metadata": {},
   "outputs": [
    {
     "data": {
      "text/html": [
       "<div>\n",
       "<style scoped>\n",
       "    .dataframe tbody tr th:only-of-type {\n",
       "        vertical-align: middle;\n",
       "    }\n",
       "\n",
       "    .dataframe tbody tr th {\n",
       "        vertical-align: top;\n",
       "    }\n",
       "\n",
       "    .dataframe thead th {\n",
       "        text-align: right;\n",
       "    }\n",
       "</style>\n",
       "<table border=\"1\" class=\"dataframe\">\n",
       "  <thead>\n",
       "    <tr style=\"text-align: right;\">\n",
       "      <th></th>\n",
       "      <th>Comment</th>\n",
       "      <th>Reply</th>\n",
       "      <th>Expanded Comment</th>\n",
       "      <th>Expanded Reply</th>\n",
       "      <th>Comment Length</th>\n",
       "      <th>Reply Length</th>\n",
       "    </tr>\n",
       "  </thead>\n",
       "  <tbody>\n",
       "    <tr>\n",
       "      <th>0</th>\n",
       "      <td>Can we make this quick? Roxanne Korrine and An...</td>\n",
       "      <td>Well, I thought we'd start with pronunciation,...</td>\n",
       "      <td>can we make this quick roxanne korrine and and...</td>\n",
       "      <td>well i thought we would start with pronunciati...</td>\n",
       "      <td>21</td>\n",
       "      <td>14</td>\n",
       "    </tr>\n",
       "    <tr>\n",
       "      <th>1</th>\n",
       "      <td>Well, I thought we'd start with pronunciation,...</td>\n",
       "      <td>Not the hacking and gagging and spitting part ...</td>\n",
       "      <td>well i thought we would start with pronunciati...</td>\n",
       "      <td>not the hacking and gagging and spitting part ...</td>\n",
       "      <td>14</td>\n",
       "      <td>9</td>\n",
       "    </tr>\n",
       "    <tr>\n",
       "      <th>2</th>\n",
       "      <td>Not the hacking and gagging and spitting part ...</td>\n",
       "      <td>Okay then how 'bout we try out some French cui...</td>\n",
       "      <td>not the hacking and gagging and spitting part ...</td>\n",
       "      <td>okay then how about we try out some french cui...</td>\n",
       "      <td>9</td>\n",
       "      <td>12</td>\n",
       "    </tr>\n",
       "    <tr>\n",
       "      <th>3</th>\n",
       "      <td>You're asking me out That's so cute What's you...</td>\n",
       "      <td>Forget it</td>\n",
       "      <td>you are asking me out that is so cute what is ...</td>\n",
       "      <td>forget it</td>\n",
       "      <td>14</td>\n",
       "      <td>2</td>\n",
       "    </tr>\n",
       "    <tr>\n",
       "      <th>4</th>\n",
       "      <td>No, no, it's my fault - we didn't have a prope...</td>\n",
       "      <td>Cameron</td>\n",
       "      <td>no no it is my fault we did not have a proper ...</td>\n",
       "      <td>cameron</td>\n",
       "      <td>16</td>\n",
       "      <td>1</td>\n",
       "    </tr>\n",
       "    <tr>\n",
       "      <th>...</th>\n",
       "      <td>...</td>\n",
       "      <td>...</td>\n",
       "      <td>...</td>\n",
       "      <td>...</td>\n",
       "      <td>...</td>\n",
       "      <td>...</td>\n",
       "    </tr>\n",
       "    <tr>\n",
       "      <th>221611</th>\n",
       "      <td>Your orders, Mr Vereker?</td>\n",
       "      <td>I'm to take the Sikali with the main column to...</td>\n",
       "      <td>your orders mr vereker</td>\n",
       "      <td>i am to take the sikali with the main column t...</td>\n",
       "      <td>4</td>\n",
       "      <td>13</td>\n",
       "    </tr>\n",
       "    <tr>\n",
       "      <th>221612</th>\n",
       "      <td>I'm to take the Sikali with the main column to...</td>\n",
       "      <td>Lord Chelmsford seems to want me to stay back ...</td>\n",
       "      <td>i am to take the sikali with the main column t...</td>\n",
       "      <td>lord chelmsford seems to want me to stay back ...</td>\n",
       "      <td>13</td>\n",
       "      <td>12</td>\n",
       "    </tr>\n",
       "    <tr>\n",
       "      <th>221613</th>\n",
       "      <td>Lord Chelmsford seems to want me to stay back ...</td>\n",
       "      <td>I think Chelmsford wants a good man on the bor...</td>\n",
       "      <td>lord chelmsford seems to want me to stay back ...</td>\n",
       "      <td>i think chelmsford wants a good man on the bor...</td>\n",
       "      <td>12</td>\n",
       "      <td>23</td>\n",
       "    </tr>\n",
       "    <tr>\n",
       "      <th>221614</th>\n",
       "      <td>Well I assure you, Sir, I have no desire to cr...</td>\n",
       "      <td>And I assure you, you do not In fact I'd be ob...</td>\n",
       "      <td>well i assure you sir i have no desire to crea...</td>\n",
       "      <td>and i assure you you do not in fact i would be...</td>\n",
       "      <td>13</td>\n",
       "      <td>22</td>\n",
       "    </tr>\n",
       "    <tr>\n",
       "      <th>221615</th>\n",
       "      <td>And I assure you, you do not In fact I'd be ob...</td>\n",
       "      <td>So far only their scouts But we have had repor...</td>\n",
       "      <td>and i assure you you do not in fact i would be...</td>\n",
       "      <td>so far only their scouts but we have had repor...</td>\n",
       "      <td>22</td>\n",
       "      <td>18</td>\n",
       "    </tr>\n",
       "  </tbody>\n",
       "</table>\n",
       "<p>221616 rows × 6 columns</p>\n",
       "</div>"
      ],
      "text/plain": [
       "                                                  Comment  \\\n",
       "0       Can we make this quick? Roxanne Korrine and An...   \n",
       "1       Well, I thought we'd start with pronunciation,...   \n",
       "2       Not the hacking and gagging and spitting part ...   \n",
       "3       You're asking me out That's so cute What's you...   \n",
       "4       No, no, it's my fault - we didn't have a prope...   \n",
       "...                                                   ...   \n",
       "221611                           Your orders, Mr Vereker?   \n",
       "221612  I'm to take the Sikali with the main column to...   \n",
       "221613  Lord Chelmsford seems to want me to stay back ...   \n",
       "221614  Well I assure you, Sir, I have no desire to cr...   \n",
       "221615  And I assure you, you do not In fact I'd be ob...   \n",
       "\n",
       "                                                    Reply  \\\n",
       "0       Well, I thought we'd start with pronunciation,...   \n",
       "1       Not the hacking and gagging and spitting part ...   \n",
       "2       Okay then how 'bout we try out some French cui...   \n",
       "3                                               Forget it   \n",
       "4                                                 Cameron   \n",
       "...                                                   ...   \n",
       "221611  I'm to take the Sikali with the main column to...   \n",
       "221612  Lord Chelmsford seems to want me to stay back ...   \n",
       "221613  I think Chelmsford wants a good man on the bor...   \n",
       "221614  And I assure you, you do not In fact I'd be ob...   \n",
       "221615  So far only their scouts But we have had repor...   \n",
       "\n",
       "                                         Expanded Comment  \\\n",
       "0       can we make this quick roxanne korrine and and...   \n",
       "1       well i thought we would start with pronunciati...   \n",
       "2       not the hacking and gagging and spitting part ...   \n",
       "3       you are asking me out that is so cute what is ...   \n",
       "4       no no it is my fault we did not have a proper ...   \n",
       "...                                                   ...   \n",
       "221611                             your orders mr vereker   \n",
       "221612  i am to take the sikali with the main column t...   \n",
       "221613  lord chelmsford seems to want me to stay back ...   \n",
       "221614  well i assure you sir i have no desire to crea...   \n",
       "221615  and i assure you you do not in fact i would be...   \n",
       "\n",
       "                                           Expanded Reply  Comment Length  \\\n",
       "0       well i thought we would start with pronunciati...              21   \n",
       "1       not the hacking and gagging and spitting part ...              14   \n",
       "2       okay then how about we try out some french cui...               9   \n",
       "3                                               forget it              14   \n",
       "4                                                 cameron              16   \n",
       "...                                                   ...             ...   \n",
       "221611  i am to take the sikali with the main column t...               4   \n",
       "221612  lord chelmsford seems to want me to stay back ...              13   \n",
       "221613  i think chelmsford wants a good man on the bor...              12   \n",
       "221614  and i assure you you do not in fact i would be...              13   \n",
       "221615  so far only their scouts but we have had repor...              22   \n",
       "\n",
       "        Reply Length  \n",
       "0                 14  \n",
       "1                  9  \n",
       "2                 12  \n",
       "3                  2  \n",
       "4                  1  \n",
       "...              ...  \n",
       "221611            13  \n",
       "221612            12  \n",
       "221613            23  \n",
       "221614            22  \n",
       "221615            18  \n",
       "\n",
       "[221616 rows x 6 columns]"
      ]
     },
     "execution_count": 61,
     "metadata": {},
     "output_type": "execute_result"
    }
   ],
   "source": [
    "df"
   ]
  },
  {
   "cell_type": "code",
   "execution_count": 62,
   "id": "2bd7d2d1",
   "metadata": {},
   "outputs": [
    {
     "data": {
      "text/plain": [
       "count    221616.000000\n",
       "mean         10.798318\n",
       "std          11.910792\n",
       "min           0.000000\n",
       "25%           4.000000\n",
       "50%           7.000000\n",
       "75%          13.000000\n",
       "max         319.000000\n",
       "Name: Comment Length, dtype: float64"
      ]
     },
     "execution_count": 62,
     "metadata": {},
     "output_type": "execute_result"
    }
   ],
   "source": [
    "df[\"Comment Length\"].describe()"
   ]
  },
  {
   "cell_type": "code",
   "execution_count": 63,
   "id": "33144224",
   "metadata": {},
   "outputs": [
    {
     "data": {
      "text/plain": [
       "count    221616.00000\n",
       "mean         11.18361\n",
       "std          12.73379\n",
       "min           0.00000\n",
       "25%           4.00000\n",
       "50%           7.00000\n",
       "75%          14.00000\n",
       "max         556.00000\n",
       "Name: Reply Length, dtype: float64"
      ]
     },
     "execution_count": 63,
     "metadata": {},
     "output_type": "execute_result"
    }
   ],
   "source": [
    "df[\"Reply Length\"].describe()"
   ]
  },
  {
   "cell_type": "markdown",
   "id": "1e8de06d",
   "metadata": {},
   "source": [
    "Since our goal is to create a chatbot for conversational purposes, training it with utterances more than 100 words as an example might be unnecessary. It's best if the chatbot remains responsive, but doesn't carry out a lengthy rant. We could limit the data to roughly 3 times the standard deviation of our mean for both our comment and reply length."
   ]
  },
  {
   "cell_type": "code",
   "execution_count": 64,
   "id": "d19c265c",
   "metadata": {},
   "outputs": [
    {
     "data": {
      "text/plain": [
       "47"
      ]
     },
     "execution_count": 64,
     "metadata": {},
     "output_type": "execute_result"
    }
   ],
   "source": [
    "# Checking value for 3*std of the mean for 'Comment Length'\n",
    "round(df['Comment Length'].mean() + 3*df['Comment Length'].std())"
   ]
  },
  {
   "cell_type": "code",
   "execution_count": 65,
   "id": "340e2dd9",
   "metadata": {},
   "outputs": [
    {
     "data": {
      "text/plain": [
       "49"
      ]
     },
     "execution_count": 65,
     "metadata": {},
     "output_type": "execute_result"
    }
   ],
   "source": [
    "# Checking value for 3*std of the mean for 'Reply Length'\n",
    "round(df['Reply Length'].mean() + 3*df['Reply Length'].std())"
   ]
  },
  {
   "cell_type": "markdown",
   "id": "d05eff41",
   "metadata": {},
   "source": [
    "Based on these numbers, a cutoff of 50 would be appropriate."
   ]
  },
  {
   "cell_type": "code",
   "execution_count": 66,
   "id": "4bf506db",
   "metadata": {},
   "outputs": [],
   "source": [
    "df = df[(df['Comment Length'] <= 50)]\n",
    "df = df[(df['Reply Length'] <= 50)]"
   ]
  },
  {
   "cell_type": "code",
   "execution_count": 67,
   "id": "01f55f75",
   "metadata": {},
   "outputs": [
    {
     "data": {
      "text/plain": [
       "count    214686.000000\n",
       "mean          9.894427\n",
       "std           8.844245\n",
       "min           0.000000\n",
       "25%           4.000000\n",
       "50%           7.000000\n",
       "75%          13.000000\n",
       "max          50.000000\n",
       "Name: Comment Length, dtype: float64"
      ]
     },
     "execution_count": 67,
     "metadata": {},
     "output_type": "execute_result"
    }
   ],
   "source": [
    "df[\"Comment Length\"].describe()"
   ]
  },
  {
   "cell_type": "code",
   "execution_count": 68,
   "id": "1bc39914",
   "metadata": {},
   "outputs": [
    {
     "data": {
      "text/plain": [
       "count    214686.000000\n",
       "mean         10.117930\n",
       "std           9.105801\n",
       "min           0.000000\n",
       "25%           4.000000\n",
       "50%           7.000000\n",
       "75%          13.000000\n",
       "max          50.000000\n",
       "Name: Reply Length, dtype: float64"
      ]
     },
     "execution_count": 68,
     "metadata": {},
     "output_type": "execute_result"
    }
   ],
   "source": [
    "df[\"Reply Length\"].describe()"
   ]
  },
  {
   "cell_type": "code",
   "execution_count": 69,
   "id": "db96ecf6",
   "metadata": {},
   "outputs": [
    {
     "data": {
      "image/png": "[encoded data removed]",
      "text/plain": [
       "<Figure size 432x288 with 1 Axes>"
      ]
     },
     "metadata": {
      "needs_background": "light"
     },
     "output_type": "display_data"
    }
   ],
   "source": [
    "# Graphical summary of our data using a histrogram\n",
    "df[\"Comment Length\"].hist(histtype='step', bins=50, label='Comment Length')\n",
    "df[\"Reply Length\"].hist(histtype='step', bins=50, label='Reply Length')\n",
    "plt.title('Word Count for Utterances under 50 Words')\n",
    "plt.xlabel('Word Count')\n",
    "plt.ylabel('Number of Utterances')\n",
    "plt.legend()\n",
    "plt.show()"
   ]
  },
  {
   "cell_type": "code",
   "execution_count": 70,
   "id": "c6bf8e2d",
   "metadata": {},
   "outputs": [
    {
     "data": {
      "image/png": "[encoded data removed]",
      "text/plain": [
       "<Figure size 432x288 with 1 Axes>"
      ]
     },
     "metadata": {
      "needs_background": "light"
     },
     "output_type": "display_data"
    }
   ],
   "source": [
    "# Graphical summary of our data using a boxplot\n",
    "df.boxplot(column=['Comment Length','Reply Length'])\n",
    "plt.title('Word Count with Outliers')\n",
    "plt.ylabel('Word Count')\n",
    "plt.show()"
   ]
  },
  {
   "cell_type": "code",
   "execution_count": 71,
   "id": "d6e272e1",
   "metadata": {},
   "outputs": [
    {
     "data": {
      "image/png": "[encoded data removed]",
      "text/plain": [
       "<Figure size 432x288 with 1 Axes>"
      ]
     },
     "metadata": {
      "needs_background": "light"
     },
     "output_type": "display_data"
    }
   ],
   "source": [
    "# Graphical summary of our data using a boxplot without outliers\n",
    "df.boxplot(column=['Comment Length','Reply Length'], showfliers=False)\n",
    "plt.title('Word Count without Outliers')\n",
    "plt.ylabel('Word Count')\n",
    "plt.show()"
   ]
  },
  {
   "cell_type": "markdown",
   "id": "d2e11c70",
   "metadata": {},
   "source": [
    "The dataset is ready to be exported for now. Any additional cleaning could be done once we start exploring the data during Exploratory Data Analysis (EDA)."
   ]
  },
  {
   "cell_type": "code",
   "execution_count": 72,
   "id": "3db12c3f",
   "metadata": {},
   "outputs": [],
   "source": [
    "# Generating path to processed_files directory\n",
    "processed_files_dir = main_chatbot_dir + '/processed_files'"
   ]
  },
  {
   "cell_type": "code",
   "execution_count": 73,
   "id": "1796167e",
   "metadata": {},
   "outputs": [],
   "source": [
    "# Exporting our data as a csv file\n",
    "df.to_pickle(processed_files_dir + '/processed_movie_dialogues.pkl', compression='xz')"
   ]
  },
  {
   "cell_type": "code",
   "execution_count": null,
   "id": "832faa90",
   "metadata": {},
   "outputs": [],
   "source": []
  }
 ],
 "metadata": {
  "kernelspec": {
   "display_name": "Python 3",
   "language": "python",
   "name": "python3"
  },
  "language_info": {
   "codemirror_mode": {
    "name": "ipython",
    "version": 3
   },
   "file_extension": ".py",
   "mimetype": "text/x-python",
   "name": "python",
   "nbconvert_exporter": "python",
   "pygments_lexer": "ipython3",
   "version": "3.7.7"
  }
 },
 "nbformat": 4,
 "nbformat_minor": 5
}
