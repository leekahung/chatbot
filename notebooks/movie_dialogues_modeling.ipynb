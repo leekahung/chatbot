{
 "cells": [
  {
   "cell_type": "markdown",
   "id": "6505016f",
   "metadata": {},
   "source": [
    "# Data Modeling\n",
    "\n",
    "From the data that we have been cleaning and processing before, we'll try and build a Seq2Seq model using the following link as our guide: https://towardsdatascience.com/generative-chatbots-using-the-seq2seq-model-d411c8738ab5"
   ]
  },
  {
   "cell_type": "code",
   "execution_count": 140,
   "id": "b3a36c24",
   "metadata": {},
   "outputs": [],
   "source": [
    "# Importing dependencies\n",
    "import pandas as pd\n",
    "import numpy as np\n",
    "import matplotlib.pyplot as plt\n",
    "import os\n",
    "import re\n",
    "from itertools import chain"
   ]
  },
  {
   "cell_type": "code",
   "execution_count": 2,
   "id": "8d666db4",
   "metadata": {},
   "outputs": [],
   "source": [
    "# Generating path\n",
    "work_dir = os.getcwd()\n",
    "main_chatbot_dir = os.path.dirname(work_dir)\n",
    "processed_files_dir = main_chatbot_dir + '/processed_files'"
   ]
  },
  {
   "cell_type": "code",
   "execution_count": 3,
   "id": "6ebb99fc",
   "metadata": {},
   "outputs": [],
   "source": [
    "# Loading randomized split datasets stored as pickle files\n",
    "X_train = pd.read_pickle(processed_files_dir + '/X_train.pkl', compression='xz')\n",
    "#X_test = pd.read_pickle(processed_files_dir + '/X_test.pkl', compression='xz')\n",
    "y_train = pd.read_pickle(processed_files_dir + '/y_train.pkl', compression='xz')\n",
    "#y_test = pd.read_pickle(processed_files_dir + '/y_test.pkl', compression='xz')\n",
    "#X_train_no_sw = pd.read_pickle(processed_files_dir + '/X_train_no_sw.pkl', compression='xz')\n",
    "#X_test_no_sw = pd.read_pickle(processed_files_dir + '/X_test_no_sw.pkl', compression='xz')\n",
    "#y_train_no_sw = pd.read_pickle(processed_files_dir + '/y_train_no_sw.pkl', compression='xz')\n",
    "#y_test_no_sw = pd.read_pickle(processed_files_dir + '/y_test_no_sw.pkl', compression='xz')"
   ]
  },
  {
   "cell_type": "code",
   "execution_count": 4,
   "id": "6fbe29df",
   "metadata": {},
   "outputs": [
    {
     "data": {
      "text/plain": [
       "0                                                       yah\n",
       "1         please tell me your dawg s not try to rekindle...\n",
       "2                                        about mark carlton\n",
       "3                        mom do you want some time with dad\n",
       "4         headache huh too much sun i guess you want to ...\n",
       "                                ...                        \n",
       "143941                          that be your fault not mine\n",
       "143942    we look all over for you what be you do back here\n",
       "143943                                           want a cup\n",
       "143944                               where s this come from\n",
       "143945                              really what do you feel\n",
       "Name: Lemmatized Comment, Length: 143946, dtype: object"
      ]
     },
     "execution_count": 4,
     "metadata": {},
     "output_type": "execute_result"
    }
   ],
   "source": [
    "X_train"
   ]
  },
  {
   "cell_type": "code",
   "execution_count": 5,
   "id": "3d032aab",
   "metadata": {},
   "outputs": [],
   "source": [
    "# Defining function to tag <START> and <END> strings to sequences in pandas series\n",
    "def sequence_tagging(input_text_series):\n",
    "    input_sequence = []\n",
    "    input_list = input_text_series.to_list()\n",
    "    for sequence in input_list:\n",
    "        input_sequence.append('<START> ' + sequence + ' <END>')\n",
    "    return input_sequence"
   ]
  },
  {
   "cell_type": "code",
   "execution_count": 57,
   "id": "4514c5a4",
   "metadata": {},
   "outputs": [],
   "source": [
    "# Selecting a small subset of X_train and y_train\n",
    "X_train_5k = X_train[:5000]\n",
    "y_train_5k = y_train[:5000]"
   ]
  },
  {
   "cell_type": "code",
   "execution_count": 58,
   "id": "c5053c7c",
   "metadata": {},
   "outputs": [],
   "source": [
    "# Selecting a second subset of X_train and y_train\n",
    "X_train_1k = X_train[5000:6000]\n",
    "y_train_1k = y_train[5000:6000]"
   ]
  },
  {
   "cell_type": "code",
   "execution_count": 59,
   "id": "a625b7d0",
   "metadata": {},
   "outputs": [
    {
     "data": {
      "text/plain": [
       "0                                                     yah\n",
       "1       please tell me your dawg s not try to rekindle...\n",
       "2                                      about mark carlton\n",
       "3                      mom do you want some time with dad\n",
       "4       headache huh too much sun i guess you want to ...\n",
       "                              ...                        \n",
       "4995    you want a popsicle go to good humor and do no...\n",
       "4996                                        yes certainly\n",
       "4997    the big guy have get the screw on him you have...\n",
       "4998    there be a lot of thing i want to talk to you ...\n",
       "4999    oh that be right she tell me to meet her there...\n",
       "Name: Lemmatized Comment, Length: 5000, dtype: object"
      ]
     },
     "execution_count": 59,
     "metadata": {},
     "output_type": "execute_result"
    }
   ],
   "source": [
    "X_train_5k"
   ]
  },
  {
   "cell_type": "code",
   "execution_count": 60,
   "id": "34e9cdc9",
   "metadata": {},
   "outputs": [
    {
     "data": {
      "text/plain": [
       "5000                                            no thanks\n",
       "5001                                        you move well\n",
       "5002    mr white please it be time for you to draw thi...\n",
       "5003                                 you have a red shirt\n",
       "5004    i have be to the dark side i have see a world ...\n",
       "                              ...                        \n",
       "5995                                                  sir\n",
       "5996                                             you mean\n",
       "5997    oh not much gate just have his tonsil take out...\n",
       "5998    exactly four step now let me lead you now to t...\n",
       "5999    it be so cool you be by far the most sensation...\n",
       "Name: Lemmatized Comment, Length: 1000, dtype: object"
      ]
     },
     "execution_count": 60,
     "metadata": {},
     "output_type": "execute_result"
    }
   ],
   "source": [
    "X_train_1k"
   ]
  },
  {
   "cell_type": "code",
   "execution_count": 116,
   "id": "030d9f3f",
   "metadata": {},
   "outputs": [],
   "source": [
    "# Reformatting X_train and y_train as list of strings\n",
    "input_sequence = X_train_5k.to_list()\n",
    "target_sequence = sequence_tagging(y_train_5k)\n",
    "\n",
    "input_sequence = input_sequence + X_train_1k.to_list()\n",
    "target_sequence = target_sequence + sequence_tagging(y_train_1k)"
   ]
  },
  {
   "cell_type": "code",
   "execution_count": 98,
   "id": "afdc1366",
   "metadata": {},
   "outputs": [
    {
     "data": {
      "text/plain": [
       "['yah',\n",
       " 'please tell me your dawg s not try to rekindle thing with my sister',\n",
       " 'about mark carlton']"
      ]
     },
     "execution_count": 98,
     "metadata": {},
     "output_type": "execute_result"
    }
   ],
   "source": [
    "input_sequence[:3]"
   ]
  },
  {
   "cell_type": "code",
   "execution_count": 117,
   "id": "fd1b923b",
   "metadata": {},
   "outputs": [
    {
     "data": {
      "text/plain": [
       "6000"
      ]
     },
     "execution_count": 117,
     "metadata": {},
     "output_type": "execute_result"
    }
   ],
   "source": [
    "len(input_sequence)"
   ]
  },
  {
   "cell_type": "code",
   "execution_count": 118,
   "id": "9bc85d76",
   "metadata": {},
   "outputs": [
    {
     "data": {
      "text/plain": [
       "['<START> yah okay i think i will drive down there then <END>',\n",
       " '<START> course not strictly business <END>',\n",
       " '<START> about benito <END>']"
      ]
     },
     "execution_count": 118,
     "metadata": {},
     "output_type": "execute_result"
    }
   ],
   "source": [
    "target_sequence[:3]"
   ]
  },
  {
   "cell_type": "code",
   "execution_count": 119,
   "id": "e8148f45",
   "metadata": {},
   "outputs": [],
   "source": [
    "# Defining function to collect unique word to vocabulary set from\n",
    "# input_sequence and target_sequence\n",
    "def vocab_collector(input_sequence, target_sequence):\n",
    "    input_tokens = set()\n",
    "    target_tokens = set()\n",
    "    for sequence in input_sequence:\n",
    "        tokenized_input_sequence = sequence.split()\n",
    "        for token in tokenized_input_sequence:\n",
    "            if token not in input_tokens:\n",
    "                input_tokens.add(token)\n",
    "    for sequence in target_sequence:\n",
    "        tokenized_target_sequence = sequence.split()\n",
    "        for token in tokenized_target_sequence:\n",
    "            if token not in target_tokens:\n",
    "                target_tokens.add(token)\n",
    "    return input_tokens, target_tokens"
   ]
  },
  {
   "cell_type": "code",
   "execution_count": 120,
   "id": "da8c8030",
   "metadata": {},
   "outputs": [],
   "source": [
    "input_tokens, target_tokens = vocab_collector(input_sequence, target_sequence)\n",
    "\n",
    "input_tokens = sorted(list(input_tokens))\n",
    "target_tokens = sorted(list(target_tokens))\n",
    "num_encoder_tokens = len(input_tokens)\n",
    "num_decoder_tokens = len(target_tokens)"
   ]
  },
  {
   "cell_type": "code",
   "execution_count": 121,
   "id": "017c4ee7",
   "metadata": {},
   "outputs": [],
   "source": [
    "# Defining function to build vocab dictionary from input_tokens\n",
    "# and target_tokens\n",
    "def vocab_dict_builder(input_tokens, target_tokens):\n",
    "    input_word2idx = dict([(token, i) for i, token in enumerate(input_tokens)])\n",
    "    target_word2idx = dict([(token, i) for i, token in enumerate(target_tokens)])\n",
    "    input_idx2word = dict((i, token) for token, i in input_word2idx.items())\n",
    "    target_idx2word = dict((i, token) for token, i in target_word2idx.items())\n",
    "    return input_word2idx, target_word2idx, input_idx2word, target_idx2word"
   ]
  },
  {
   "cell_type": "code",
   "execution_count": 122,
   "id": "78fbbe78",
   "metadata": {},
   "outputs": [],
   "source": [
    "# Generating vocab dictionaries\n",
    "input_word2idx, target_word2idx, input_idx2word, target_idx2word = vocab_dict_builder(input_tokens, target_tokens)"
   ]
  },
  {
   "cell_type": "code",
   "execution_count": 123,
   "id": "8bc6e354",
   "metadata": {},
   "outputs": [],
   "source": [
    "# Obtaining max sequence length from input and target sequences\n",
    "max_encoder_seq_length = max([len(re.findall(r\"[\\w']+|[^\\s\\w]\", sequence)) for sequence in input_sequence])\n",
    "max_decoder_seq_length = max([len(re.findall(r\"[\\w']+|[^\\s\\w]\", sequence)) for sequence in target_sequence])"
   ]
  },
  {
   "cell_type": "code",
   "execution_count": 124,
   "id": "1016faba",
   "metadata": {},
   "outputs": [],
   "source": [
    "# Setting up encoder and decoder data\n",
    "encoder_input_data = np.zeros(\n",
    "    (len(input_sequence), max_encoder_seq_length, num_encoder_tokens),\n",
    "    dtype='float32')\n",
    "decoder_input_data = np.zeros(\n",
    "    (len(input_sequence), max_decoder_seq_length, num_decoder_tokens),\n",
    "    dtype='float32')\n",
    "decoder_target_data = np.zeros(\n",
    "    (len(input_sequence), max_decoder_seq_length, num_decoder_tokens),\n",
    "    dtype='float32')\n",
    "for line, (input_sequence, target_sequence) in enumerate(zip(input_sequence, target_sequence)):\n",
    "    for timestep, token in enumerate(re.findall(r\"[\\w']+|[^\\s\\w]\", input_sequence)):\n",
    "        #Assign 1. for the current line, timestep, & word in encoder_input_data\n",
    "        encoder_input_data[line, timestep, input_word2idx[token]] = 1.\n",
    "    \n",
    "    for timestep, token in enumerate(target_sequence.split()):\n",
    "        decoder_input_data[line, timestep, target_word2idx[token]] = 1.\n",
    "        if timestep > 0:\n",
    "            decoder_target_data[line, timestep - 1, target_word2idx[token]] = 1."
   ]
  },
  {
   "cell_type": "code",
   "execution_count": 20,
   "id": "eda117d0",
   "metadata": {},
   "outputs": [],
   "source": [
    "from tensorflow import keras\n",
    "from keras.layers import Input, LSTM, Dense\n",
    "from keras.models import Model, load_model\n",
    "from keras.utils import plot_model\n",
    "from keras.callbacks import EarlyStopping\n",
    "from IPython.display import Image"
   ]
  },
  {
   "cell_type": "code",
   "execution_count": 125,
   "id": "fe1672c4",
   "metadata": {},
   "outputs": [
    {
     "name": "stdout",
     "output_type": "stream",
     "text": [
      "__________________________________________________________________________________________________\n",
      "Layer (type)                    Output Shape         Param #     Connected to                     \n",
      "==================================================================================================\n",
      "input_17 (InputLayer)           (None, None, 5955)   0                                            \n",
      "__________________________________________________________________________________________________\n",
      "input_18 (InputLayer)           (None, None, 5987)   0                                            \n",
      "__________________________________________________________________________________________________\n",
      "lstm_13 (LSTM)                  [(None, 256), (None, 6361088     input_17[0][0]                   \n",
      "__________________________________________________________________________________________________\n",
      "lstm_14 (LSTM)                  [(None, None, 256),  6393856     input_18[0][0]                   \n",
      "                                                                 lstm_13[0][1]                    \n",
      "                                                                 lstm_13[0][2]                    \n",
      "__________________________________________________________________________________________________\n",
      "dense_7 (Dense)                 (None, None, 5987)   1538659     lstm_14[0][0]                    \n",
      "==================================================================================================\n",
      "Total params: 14,293,603\n",
      "Trainable params: 14,293,603\n",
      "Non-trainable params: 0\n",
      "__________________________________________________________________________________________________\n"
     ]
    },
    {
     "data": {
      "image/png": "[encoded data removed]",
      "text/plain": [
       "<IPython.core.display.Image object>"
      ]
     },
     "execution_count": 125,
     "metadata": {},
     "output_type": "execute_result"
    }
   ],
   "source": [
    "# Building Model for Seq2Seq\n",
    "# Setting for dimensionality in LSTM layers\n",
    "dimensionality = 256\n",
    "\n",
    "# Setting up Encoder Layers\n",
    "encoder_inputs = Input(shape=(None, num_encoder_tokens))\n",
    "encoder_lstm = LSTM(dimensionality, return_state=True)\n",
    "encoder_outputs, state_hidden, state_cell = encoder_lstm(encoder_inputs)\n",
    "encoder_states = [state_hidden, state_cell]\n",
    "\n",
    "# Setting up Decoder Layers\n",
    "decoder_inputs = Input(shape=(None, num_decoder_tokens))\n",
    "decoder_lstm = LSTM(dimensionality, return_sequences=True, return_state=True)\n",
    "decoder_outputs, decoder_state_hidden, decoder_state_cell = decoder_lstm(decoder_inputs, initial_state=encoder_states)\n",
    "decoder_dense = Dense(num_decoder_tokens, activation='softmax')\n",
    "decoder_outputs = decoder_dense(decoder_outputs)\n",
    "\n",
    "# Setting up Seq2Seq model\n",
    "training_model = Model([encoder_inputs, decoder_inputs], decoder_outputs)\n",
    "training_model.summary()\n",
    "plot_model(training_model, to_file='model_plot.png', show_shapes=True, show_layer_names=True)\n",
    "Image('model_plot.png')"
   ]
  },
  {
   "cell_type": "code",
   "execution_count": 126,
   "id": "96cc34be",
   "metadata": {},
   "outputs": [],
   "source": [
    "# Compiling Seq2Seq model\n",
    "training_model.compile(optimizer='rmsprop',\n",
    "                       loss='categorical_crossentropy',\n",
    "                       metrics=['accuracy'],\n",
    "                       sample_weight_mode='temporal')"
   ]
  },
  {
   "cell_type": "code",
   "execution_count": 127,
   "id": "600483a2",
   "metadata": {},
   "outputs": [],
   "source": [
    "# Creating early stop to stop model training early if 'acc' doesn't\n",
    "# improve after 5 epochs\n",
    "es = EarlyStopping(monitor='acc', patience=5)"
   ]
  },
  {
   "cell_type": "code",
   "execution_count": 132,
   "id": "cd81607f",
   "metadata": {},
   "outputs": [],
   "source": [
    "# Settings for model training\n",
    "batch_size = 32\n",
    "epochs = 200\n",
    "validation_split = 0.1"
   ]
  },
  {
   "cell_type": "code",
   "execution_count": 137,
   "id": "d1fe082b",
   "metadata": {
    "scrolled": false
   },
   "outputs": [
    {
     "name": "stdout",
     "output_type": "stream",
     "text": [
      "Training model for 200 epochs with a validation split of 10%...\n",
      "Train on 5400 samples, validate on 600 samples\n",
      "Epoch 1/200\n",
      "5400/5400 [==============================] - 910s 168ms/step - loss: 1.0328 - acc: 0.0187 - val_loss: 1.0654 - val_acc: 0.0187\n",
      "Epoch 2/200\n",
      "5400/5400 [==============================] - 922s 171ms/step - loss: 1.0018 - acc: 0.0203 - val_loss: 1.0391 - val_acc: 0.0227\n",
      "Epoch 3/200\n",
      "5400/5400 [==============================] - 996s 184ms/step - loss: 0.9707 - acc: 0.0247 - val_loss: 1.0096 - val_acc: 0.0273\n",
      "Epoch 4/200\n",
      "5400/5400 [==============================] - 1084s 201ms/step - loss: 0.9420 - acc: 0.0279 - val_loss: 0.9954 - val_acc: 0.0286\n",
      "Epoch 5/200\n",
      "5400/5400 [==============================] - 1020s 189ms/step - loss: 0.9237 - acc: 0.0296 - val_loss: 0.9855 - val_acc: 0.0306\n",
      "Epoch 6/200\n",
      "5400/5400 [==============================] - 1135s 210ms/step - loss: 0.9068 - acc: 0.0312 - val_loss: 0.9763 - val_acc: 0.0311\n",
      "Epoch 7/200\n",
      "5400/5400 [==============================] - 1413s 262ms/step - loss: 0.8933 - acc: 0.0321 - val_loss: 0.9701 - val_acc: 0.0316\n",
      "Epoch 8/200\n",
      "5400/5400 [==============================] - 1167s 216ms/step - loss: 0.8815 - acc: 0.0332 - val_loss: 0.9673 - val_acc: 0.0322\n",
      "Epoch 9/200\n",
      "5400/5400 [==============================] - 1517s 281ms/step - loss: 0.8688 - acc: 0.0342 - val_loss: 0.9641 - val_acc: 0.0328\n",
      "Epoch 10/200\n",
      "5400/5400 [==============================] - 1485s 275ms/step - loss: 0.8568 - acc: 0.0350 - val_loss: 0.9646 - val_acc: 0.0324\n",
      "Epoch 11/200\n",
      "5400/5400 [==============================] - 1219s 226ms/step - loss: 0.8447 - acc: 0.0360 - val_loss: 0.9636 - val_acc: 0.0332\n",
      "Epoch 12/200\n",
      "5400/5400 [==============================] - 1014s 188ms/step - loss: 0.8329 - acc: 0.0369 - val_loss: 0.9644 - val_acc: 0.0328\n",
      "Epoch 13/200\n",
      "5400/5400 [==============================] - 1048s 194ms/step - loss: 0.8207 - acc: 0.0380 - val_loss: 0.9697 - val_acc: 0.0323\n",
      "Epoch 14/200\n",
      "5400/5400 [==============================] - 1103s 204ms/step - loss: 0.8087 - acc: 0.0389 - val_loss: 0.9682 - val_acc: 0.0325\n",
      "Epoch 15/200\n",
      "5400/5400 [==============================] - 953s 176ms/step - loss: 0.7969 - acc: 0.0402 - val_loss: 0.9737 - val_acc: 0.0317\n",
      "Epoch 16/200\n",
      "5400/5400 [==============================] - 951s 176ms/step - loss: 0.7853 - acc: 0.0413 - val_loss: 0.9725 - val_acc: 0.0316\n",
      "Epoch 17/200\n",
      "5400/5400 [==============================] - 960s 178ms/step - loss: 0.7735 - acc: 0.0424 - val_loss: 0.9815 - val_acc: 0.0309\n",
      "Epoch 18/200\n",
      "5400/5400 [==============================] - 1130s 209ms/step - loss: 0.7623 - acc: 0.0437 - val_loss: 0.9791 - val_acc: 0.0315\n",
      "Epoch 19/200\n",
      "5400/5400 [==============================] - 1099s 204ms/step - loss: 0.7509 - acc: 0.0449 - val_loss: 0.9880 - val_acc: 0.0306\n",
      "Epoch 20/200\n",
      "5400/5400 [==============================] - 1009s 187ms/step - loss: 0.7413 - acc: 0.0462 - val_loss: 0.9907 - val_acc: 0.0300\n",
      "Epoch 21/200\n",
      "5400/5400 [==============================] - 1020s 189ms/step - loss: 0.7300 - acc: 0.0474 - val_loss: 0.9997 - val_acc: 0.0299\n",
      "Epoch 22/200\n",
      "5400/5400 [==============================] - 1044s 193ms/step - loss: 0.7182 - acc: 0.0491 - val_loss: 1.0044 - val_acc: 0.0291\n",
      "Epoch 23/200\n",
      "5400/5400 [==============================] - 1238s 229ms/step - loss: 0.7069 - acc: 0.0502 - val_loss: 1.0127 - val_acc: 0.0287\n",
      "Epoch 24/200\n",
      "5400/5400 [==============================] - 1514s 280ms/step - loss: 0.7007 - acc: 0.0515 - val_loss: 1.0090 - val_acc: 0.0292\n",
      "Epoch 25/200\n",
      "5400/5400 [==============================] - 1551s 287ms/step - loss: 0.6863 - acc: 0.0531 - val_loss: 1.0231 - val_acc: 0.0279\n",
      "Epoch 26/200\n",
      "5400/5400 [==============================] - 1464s 271ms/step - loss: 0.6766 - acc: 0.0547 - val_loss: 1.0287 - val_acc: 0.0275\n",
      "Epoch 27/200\n",
      "5400/5400 [==============================] - 1489s 276ms/step - loss: 0.6674 - acc: 0.0560 - val_loss: 1.0357 - val_acc: 0.0269\n",
      "Epoch 28/200\n",
      "5400/5400 [==============================] - 1465s 271ms/step - loss: 0.6577 - acc: 0.0573 - val_loss: 1.0345 - val_acc: 0.0271\n",
      "Epoch 29/200\n",
      "5400/5400 [==============================] - 1331s 246ms/step - loss: 0.6473 - acc: 0.0590 - val_loss: 1.0465 - val_acc: 0.0259\n",
      "Epoch 30/200\n",
      "5400/5400 [==============================] - 1448s 268ms/step - loss: 0.6374 - acc: 0.0605 - val_loss: 1.0503 - val_acc: 0.0267\n",
      "Epoch 31/200\n",
      "5400/5400 [==============================] - 1460s 270ms/step - loss: 0.6287 - acc: 0.0618 - val_loss: 1.0557 - val_acc: 0.0264\n",
      "Epoch 32/200\n",
      "5400/5400 [==============================] - 1447s 268ms/step - loss: 0.6190 - acc: 0.0634 - val_loss: 1.0659 - val_acc: 0.0261\n",
      "Epoch 33/200\n",
      "5400/5400 [==============================] - 1026s 190ms/step - loss: 0.6094 - acc: 0.0650 - val_loss: 1.0664 - val_acc: 0.0259\n",
      "Epoch 34/200\n",
      "5400/5400 [==============================] - 1012s 187ms/step - loss: 0.6013 - acc: 0.0662 - val_loss: 1.0803 - val_acc: 0.0246\n",
      "Epoch 35/200\n",
      "5400/5400 [==============================] - 1031s 191ms/step - loss: 0.5919 - acc: 0.0678 - val_loss: 1.0795 - val_acc: 0.0245\n",
      "Epoch 36/200\n",
      "5400/5400 [==============================] - 1035s 192ms/step - loss: 0.5833 - acc: 0.0692 - val_loss: 1.0846 - val_acc: 0.0250\n",
      "Epoch 37/200\n",
      "5400/5400 [==============================] - 1042s 193ms/step - loss: 0.5742 - acc: 0.0710 - val_loss: 1.1009 - val_acc: 0.0245\n",
      "Epoch 38/200\n",
      "5400/5400 [==============================] - 1038s 192ms/step - loss: 0.5666 - acc: 0.0721 - val_loss: 1.0998 - val_acc: 0.0244\n",
      "Epoch 39/200\n",
      "5400/5400 [==============================] - 1045s 193ms/step - loss: 0.5576 - acc: 0.0739 - val_loss: 1.1079 - val_acc: 0.0243\n",
      "Epoch 40/200\n",
      "5400/5400 [==============================] - 1042s 193ms/step - loss: 0.5490 - acc: 0.0754 - val_loss: 1.1201 - val_acc: 0.0248\n",
      "Epoch 41/200\n",
      "5400/5400 [==============================] - 1045s 193ms/step - loss: 0.5417 - acc: 0.0765 - val_loss: 1.1237 - val_acc: 0.0232\n",
      "Epoch 42/200\n",
      "5400/5400 [==============================] - 1047s 194ms/step - loss: 0.5344 - acc: 0.0782 - val_loss: 1.1283 - val_acc: 0.0234\n",
      "Epoch 43/200\n",
      "5400/5400 [==============================] - 1063s 197ms/step - loss: 0.5262 - acc: 0.0794 - val_loss: 1.1315 - val_acc: 0.0234\n",
      "Epoch 44/200\n",
      "5400/5400 [==============================] - 1384s 256ms/step - loss: 0.5185 - acc: 0.0809 - val_loss: 1.1385 - val_acc: 0.0232\n",
      "Epoch 45/200\n",
      "5400/5400 [==============================] - 1358s 252ms/step - loss: 0.5108 - acc: 0.0825 - val_loss: 1.1499 - val_acc: 0.0228\n",
      "Epoch 46/200\n",
      "5400/5400 [==============================] - 1036s 192ms/step - loss: 0.5047 - acc: 0.0837 - val_loss: 1.1497 - val_acc: 0.0234\n",
      "Epoch 47/200\n",
      "5400/5400 [==============================] - 1037s 192ms/step - loss: 0.4974 - acc: 0.0850 - val_loss: 1.1603 - val_acc: 0.0221\n",
      "Epoch 48/200\n",
      "5400/5400 [==============================] - 1033s 191ms/step - loss: 0.4895 - acc: 0.0867 - val_loss: 1.1638 - val_acc: 0.0221\n",
      "Epoch 49/200\n",
      "5400/5400 [==============================] - 1036s 192ms/step - loss: 0.4826 - acc: 0.0879 - val_loss: 1.1750 - val_acc: 0.0217\n",
      "Epoch 50/200\n",
      "5400/5400 [==============================] - 1041s 193ms/step - loss: 0.4764 - acc: 0.0895 - val_loss: 1.1855 - val_acc: 0.0222\n",
      "Epoch 51/200\n",
      "5400/5400 [==============================] - 1036s 192ms/step - loss: 0.4697 - acc: 0.0907 - val_loss: 1.1918 - val_acc: 0.0213\n",
      "Epoch 52/200\n",
      "5400/5400 [==============================] - 1038s 192ms/step - loss: 0.4644 - acc: 0.0916 - val_loss: 1.1934 - val_acc: 0.0220\n",
      "Epoch 53/200\n",
      "5400/5400 [==============================] - 1042s 193ms/step - loss: 0.4576 - acc: 0.0932 - val_loss: 1.1983 - val_acc: 0.0215\n",
      "Epoch 54/200\n",
      "5400/5400 [==============================] - 1039s 192ms/step - loss: 0.4516 - acc: 0.0943 - val_loss: 1.2043 - val_acc: 0.0215\n",
      "Epoch 55/200\n",
      "5400/5400 [==============================] - 1042s 193ms/step - loss: 0.4451 - acc: 0.0961 - val_loss: 1.2143 - val_acc: 0.0213\n",
      "Epoch 56/200\n",
      "5400/5400 [==============================] - 1042s 193ms/step - loss: 0.4394 - acc: 0.0970 - val_loss: 1.2197 - val_acc: 0.0209\n",
      "Epoch 57/200\n",
      "5400/5400 [==============================] - 1046s 194ms/step - loss: 0.4333 - acc: 0.0983 - val_loss: 1.2238 - val_acc: 0.0211\n",
      "Epoch 58/200\n"
     ]
    },
    {
     "name": "stdout",
     "output_type": "stream",
     "text": [
      "5400/5400 [==============================] - 1033s 191ms/step - loss: 0.4287 - acc: 0.0993 - val_loss: 1.2255 - val_acc: 0.0209\n",
      "Epoch 59/200\n",
      "5400/5400 [==============================] - 1020s 189ms/step - loss: 0.4235 - acc: 0.1003 - val_loss: 1.2314 - val_acc: 0.0212\n",
      "Epoch 60/200\n",
      "5400/5400 [==============================] - 1020s 189ms/step - loss: 0.4178 - acc: 0.1017 - val_loss: 1.2461 - val_acc: 0.0199\n",
      "Epoch 61/200\n",
      "5400/5400 [==============================] - 1030s 191ms/step - loss: 0.4113 - acc: 0.1030 - val_loss: 1.2414 - val_acc: 0.0206\n",
      "Epoch 62/200\n",
      "5400/5400 [==============================] - 1026s 190ms/step - loss: 0.4065 - acc: 0.1037 - val_loss: 1.2487 - val_acc: 0.0194\n",
      "Epoch 63/200\n",
      "5400/5400 [==============================] - 1026s 190ms/step - loss: 0.4011 - acc: 0.1049 - val_loss: 1.2561 - val_acc: 0.0200\n",
      "Epoch 64/200\n",
      "5400/5400 [==============================] - 1024s 190ms/step - loss: 0.3952 - acc: 0.1062 - val_loss: 1.2636 - val_acc: 0.0195\n",
      "Epoch 65/200\n",
      "5400/5400 [==============================] - 1041s 193ms/step - loss: 0.3900 - acc: 0.1073 - val_loss: 1.2661 - val_acc: 0.0207\n",
      "Epoch 66/200\n",
      "5400/5400 [==============================] - 1026s 190ms/step - loss: 0.3859 - acc: 0.1081 - val_loss: 1.2730 - val_acc: 0.0188\n",
      "Epoch 67/200\n",
      "5400/5400 [==============================] - 1031s 191ms/step - loss: 0.3811 - acc: 0.1092 - val_loss: 1.2843 - val_acc: 0.0194\n",
      "Epoch 68/200\n",
      "5400/5400 [==============================] - 1030s 191ms/step - loss: 0.3757 - acc: 0.1100 - val_loss: 1.2924 - val_acc: 0.0191\n",
      "Epoch 69/200\n",
      "5400/5400 [==============================] - 1036s 192ms/step - loss: 0.3704 - acc: 0.1113 - val_loss: 1.2942 - val_acc: 0.0198\n",
      "Epoch 70/200\n",
      "5400/5400 [==============================] - 1052s 195ms/step - loss: 0.3658 - acc: 0.1121 - val_loss: 1.2928 - val_acc: 0.0205\n",
      "Epoch 71/200\n",
      "5400/5400 [==============================] - 1067s 198ms/step - loss: 0.3615 - acc: 0.1126 - val_loss: 1.2977 - val_acc: 0.0192\n",
      "Epoch 72/200\n",
      "5400/5400 [==============================] - 1071s 198ms/step - loss: 0.3561 - acc: 0.1138 - val_loss: 1.2990 - val_acc: 0.0191\n",
      "Epoch 73/200\n",
      "5400/5400 [==============================] - 1013s 188ms/step - loss: 0.3516 - acc: 0.1147 - val_loss: 1.3078 - val_acc: 0.0187\n",
      "Epoch 74/200\n",
      "5400/5400 [==============================] - 1007s 187ms/step - loss: 0.3468 - acc: 0.1157 - val_loss: 1.3103 - val_acc: 0.0184\n",
      "Epoch 75/200\n",
      "5400/5400 [==============================] - 1083s 200ms/step - loss: 0.3417 - acc: 0.1167 - val_loss: 1.3217 - val_acc: 0.0185\n",
      "Epoch 76/200\n",
      "5400/5400 [==============================] - 1271s 235ms/step - loss: 0.3376 - acc: 0.1175 - val_loss: 1.3196 - val_acc: 0.0191\n",
      "Epoch 77/200\n",
      "5400/5400 [==============================] - 1103s 204ms/step - loss: 0.3328 - acc: 0.1181 - val_loss: 1.3255 - val_acc: 0.0191\n",
      "Epoch 78/200\n",
      "5400/5400 [==============================] - 1057s 196ms/step - loss: 0.3292 - acc: 0.1191 - val_loss: 1.3305 - val_acc: 0.0181\n",
      "Epoch 79/200\n",
      "5400/5400 [==============================] - 1036s 192ms/step - loss: 0.3246 - acc: 0.1202 - val_loss: 1.3435 - val_acc: 0.0187\n",
      "Epoch 80/200\n",
      "5400/5400 [==============================] - 1093s 202ms/step - loss: 0.3207 - acc: 0.1209 - val_loss: 1.3466 - val_acc: 0.0186\n",
      "Epoch 81/200\n",
      "5400/5400 [==============================] - 1116s 207ms/step - loss: 0.3163 - acc: 0.1218 - val_loss: 1.3522 - val_acc: 0.0189\n",
      "Epoch 82/200\n",
      "5400/5400 [==============================] - 1119s 207ms/step - loss: 0.3130 - acc: 0.1221 - val_loss: 1.3531 - val_acc: 0.0179\n",
      "Epoch 83/200\n",
      "5400/5400 [==============================] - 1036s 192ms/step - loss: 0.3095 - acc: 0.1229 - val_loss: 1.3722 - val_acc: 0.0183\n",
      "Epoch 84/200\n",
      "5400/5400 [==============================] - 922s 171ms/step - loss: 0.3046 - acc: 0.1239 - val_loss: 1.3729 - val_acc: 0.0183\n",
      "Epoch 85/200\n",
      "5400/5400 [==============================] - 907s 168ms/step - loss: 0.3014 - acc: 0.1245 - val_loss: 1.3628 - val_acc: 0.0177\n",
      "Epoch 86/200\n",
      "5400/5400 [==============================] - 898s 166ms/step - loss: 0.2976 - acc: 0.1253 - val_loss: 1.3713 - val_acc: 0.0175\n",
      "Epoch 87/200\n",
      "5400/5400 [==============================] - 890s 165ms/step - loss: 0.2945 - acc: 0.1260 - val_loss: 1.3775 - val_acc: 0.0181\n",
      "Epoch 88/200\n",
      "5400/5400 [==============================] - 954s 177ms/step - loss: 0.2915 - acc: 0.1265 - val_loss: 1.3781 - val_acc: 0.0174\n",
      "Epoch 89/200\n",
      "5400/5400 [==============================] - 1009s 187ms/step - loss: 0.2878 - acc: 0.1275 - val_loss: 1.3910 - val_acc: 0.0179\n",
      "Epoch 90/200\n",
      "5400/5400 [==============================] - 1036s 192ms/step - loss: 0.2850 - acc: 0.1282 - val_loss: 1.4017 - val_acc: 0.0175\n",
      "Epoch 91/200\n",
      "5400/5400 [==============================] - 1064s 197ms/step - loss: 0.2814 - acc: 0.1285 - val_loss: 1.3999 - val_acc: 0.0176\n",
      "Epoch 92/200\n",
      "5400/5400 [==============================] - 1045s 194ms/step - loss: 0.2786 - acc: 0.1293 - val_loss: 1.3986 - val_acc: 0.0175\n",
      "Epoch 93/200\n",
      "5400/5400 [==============================] - 1082s 200ms/step - loss: 0.2744 - acc: 0.1298 - val_loss: 1.4104 - val_acc: 0.0174\n",
      "Epoch 94/200\n",
      "5400/5400 [==============================] - 940s 174ms/step - loss: 0.2717 - acc: 0.1305 - val_loss: 1.4150 - val_acc: 0.0174\n",
      "Epoch 95/200\n",
      "5400/5400 [==============================] - 950s 176ms/step - loss: 0.2685 - acc: 0.1312 - val_loss: 1.4097 - val_acc: 0.0174\n",
      "Epoch 96/200\n",
      "5400/5400 [==============================] - 954s 177ms/step - loss: 0.2656 - acc: 0.1318 - val_loss: 1.4278 - val_acc: 0.0179\n",
      "Epoch 97/200\n",
      "5400/5400 [==============================] - 957s 177ms/step - loss: 0.2629 - acc: 0.1322 - val_loss: 1.4182 - val_acc: 0.0176\n",
      "Epoch 98/200\n",
      "5400/5400 [==============================] - 938s 174ms/step - loss: 0.2608 - acc: 0.1327 - val_loss: 1.4217 - val_acc: 0.0175\n",
      "Epoch 99/200\n",
      "5400/5400 [==============================] - 884s 164ms/step - loss: 0.2575 - acc: 0.1332 - val_loss: 1.4160 - val_acc: 0.0176\n",
      "Epoch 100/200\n",
      "5400/5400 [==============================] - 862s 160ms/step - loss: 0.2546 - acc: 0.1335 - val_loss: 1.4371 - val_acc: 0.0175\n",
      "Epoch 101/200\n",
      "5400/5400 [==============================] - 973s 180ms/step - loss: 0.2513 - acc: 0.1342 - val_loss: 1.4467 - val_acc: 0.0168\n",
      "Epoch 102/200\n",
      "5400/5400 [==============================] - 1179s 218ms/step - loss: 0.2488 - acc: 0.1347 - val_loss: 1.4404 - val_acc: 0.0170\n",
      "Epoch 103/200\n",
      "5400/5400 [==============================] - 1171s 217ms/step - loss: 0.2464 - acc: 0.1354 - val_loss: 1.4482 - val_acc: 0.0161\n",
      "Epoch 104/200\n",
      "5400/5400 [==============================] - 1113s 206ms/step - loss: 0.2427 - acc: 0.1361 - val_loss: 1.4531 - val_acc: 0.0169\n",
      "Epoch 105/200\n",
      "5400/5400 [==============================] - 1072s 198ms/step - loss: 0.2402 - acc: 0.1363 - val_loss: 1.4500 - val_acc: 0.0174\n",
      "Epoch 106/200\n",
      "5400/5400 [==============================] - 1159s 215ms/step - loss: 0.2374 - acc: 0.1369 - val_loss: 1.4608 - val_acc: 0.0167\n",
      "Epoch 107/200\n",
      "5400/5400 [==============================] - 1054s 195ms/step - loss: 0.2357 - acc: 0.1371 - val_loss: 1.4665 - val_acc: 0.0174\n",
      "Epoch 108/200\n",
      "5400/5400 [==============================] - 1100s 204ms/step - loss: 0.2322 - acc: 0.1379 - val_loss: 1.4728 - val_acc: 0.0169\n",
      "Epoch 109/200\n",
      "5400/5400 [==============================] - 1048s 194ms/step - loss: 0.2300 - acc: 0.1380 - val_loss: 1.4702 - val_acc: 0.0167\n",
      "Epoch 110/200\n",
      "5400/5400 [==============================] - 1015s 188ms/step - loss: 0.2266 - acc: 0.1386 - val_loss: 1.4680 - val_acc: 0.0169\n",
      "Epoch 111/200\n",
      "5400/5400 [==============================] - 1027s 190ms/step - loss: 0.2247 - acc: 0.1390 - val_loss: 1.4687 - val_acc: 0.0165\n",
      "Epoch 112/200\n",
      "5400/5400 [==============================] - 1027s 190ms/step - loss: 0.2220 - acc: 0.1396 - val_loss: 1.4783 - val_acc: 0.0171\n",
      "Epoch 113/200\n",
      "5400/5400 [==============================] - 1013s 188ms/step - loss: 0.2208 - acc: 0.1396 - val_loss: 1.4766 - val_acc: 0.0172\n",
      "Epoch 114/200\n",
      "5400/5400 [==============================] - 1006s 186ms/step - loss: 0.2178 - acc: 0.1403 - val_loss: 1.4886 - val_acc: 0.0171\n",
      "Epoch 115/200\n",
      "5400/5400 [==============================] - 1050s 194ms/step - loss: 0.2152 - acc: 0.1407 - val_loss: 1.4920 - val_acc: 0.0169\n",
      "Epoch 116/200\n"
     ]
    },
    {
     "name": "stdout",
     "output_type": "stream",
     "text": [
      "5400/5400 [==============================] - 1028s 190ms/step - loss: 0.2128 - acc: 0.1412 - val_loss: 1.4898 - val_acc: 0.0169\n",
      "Epoch 117/200\n",
      "5400/5400 [==============================] - 1004s 186ms/step - loss: 0.2103 - acc: 0.1418 - val_loss: 1.4904 - val_acc: 0.0157\n",
      "Epoch 118/200\n",
      "5400/5400 [==============================] - 850s 157ms/step - loss: 0.2072 - acc: 0.1424 - val_loss: 1.5034 - val_acc: 0.0164\n",
      "Epoch 119/200\n",
      "5400/5400 [==============================] - 874s 162ms/step - loss: 0.2044 - acc: 0.1429 - val_loss: 1.5036 - val_acc: 0.0164\n",
      "Epoch 120/200\n",
      "5400/5400 [==============================] - 875s 162ms/step - loss: 0.2025 - acc: 0.1430 - val_loss: 1.5015 - val_acc: 0.0171\n",
      "Epoch 121/200\n",
      "5400/5400 [==============================] - 887s 164ms/step - loss: 0.1993 - acc: 0.1438 - val_loss: 1.5135 - val_acc: 0.0168\n",
      "Epoch 122/200\n",
      "5400/5400 [==============================] - 888s 164ms/step - loss: 0.1975 - acc: 0.1444 - val_loss: 1.5210 - val_acc: 0.0172\n",
      "Epoch 123/200\n",
      "5400/5400 [==============================] - 892s 165ms/step - loss: 0.1954 - acc: 0.1446 - val_loss: 1.5139 - val_acc: 0.0165\n",
      "Epoch 124/200\n",
      "5400/5400 [==============================] - 893s 165ms/step - loss: 0.1933 - acc: 0.1451 - val_loss: 1.5249 - val_acc: 0.0162\n",
      "Epoch 125/200\n",
      "5400/5400 [==============================] - 901s 167ms/step - loss: 0.1911 - acc: 0.1454 - val_loss: 1.5234 - val_acc: 0.0167\n",
      "Epoch 126/200\n",
      "5400/5400 [==============================] - 899s 167ms/step - loss: 0.1892 - acc: 0.1459 - val_loss: 1.5246 - val_acc: 0.0173\n",
      "Epoch 127/200\n",
      "5400/5400 [==============================] - 900s 167ms/step - loss: 0.1868 - acc: 0.1463 - val_loss: 1.5407 - val_acc: 0.0159\n",
      "Epoch 128/200\n",
      "5400/5400 [==============================] - 901s 167ms/step - loss: 0.1856 - acc: 0.1464 - val_loss: 1.5363 - val_acc: 0.0165\n",
      "Epoch 129/200\n",
      "5400/5400 [==============================] - 1232s 228ms/step - loss: 0.1850 - acc: 0.1463 - val_loss: 1.5280 - val_acc: 0.0163\n",
      "Epoch 130/200\n",
      "5400/5400 [==============================] - 1132s 210ms/step - loss: 0.1821 - acc: 0.1472 - val_loss: 1.5369 - val_acc: 0.0166\n",
      "Epoch 131/200\n",
      "5400/5400 [==============================] - 904s 167ms/step - loss: 0.1796 - acc: 0.1477 - val_loss: 1.5287 - val_acc: 0.0168\n",
      "Epoch 132/200\n",
      "5400/5400 [==============================] - 897s 166ms/step - loss: 0.1801 - acc: 0.1474 - val_loss: 1.5330 - val_acc: 0.0169\n",
      "Epoch 133/200\n",
      "5400/5400 [==============================] - 902s 167ms/step - loss: 0.1766 - acc: 0.1482 - val_loss: 1.5443 - val_acc: 0.0161\n",
      "Epoch 134/200\n",
      "5400/5400 [==============================] - 903s 167ms/step - loss: 0.1746 - acc: 0.1485 - val_loss: 1.5377 - val_acc: 0.0168\n",
      "Epoch 135/200\n",
      "5400/5400 [==============================] - 900s 167ms/step - loss: 0.1734 - acc: 0.1486 - val_loss: 1.5530 - val_acc: 0.0159\n",
      "Epoch 136/200\n",
      "5400/5400 [==============================] - 900s 167ms/step - loss: 0.1721 - acc: 0.1487 - val_loss: 1.5380 - val_acc: 0.0164\n",
      "Epoch 137/200\n",
      "5400/5400 [==============================] - 894s 166ms/step - loss: 0.1704 - acc: 0.1493 - val_loss: 1.5499 - val_acc: 0.0164\n",
      "Epoch 138/200\n",
      "5400/5400 [==============================] - 896s 166ms/step - loss: 0.1682 - acc: 0.1499 - val_loss: 1.5471 - val_acc: 0.0166\n",
      "Epoch 139/200\n",
      "5400/5400 [==============================] - 892s 165ms/step - loss: 0.1666 - acc: 0.1500 - val_loss: 1.5520 - val_acc: 0.0158\n",
      "Epoch 140/200\n",
      "5400/5400 [==============================] - 888s 164ms/step - loss: 0.1648 - acc: 0.1503 - val_loss: 1.5572 - val_acc: 0.0159\n",
      "Epoch 141/200\n",
      "5400/5400 [==============================] - 884s 164ms/step - loss: 0.1634 - acc: 0.1506 - val_loss: 1.5518 - val_acc: 0.0167\n",
      "Epoch 142/200\n",
      "5400/5400 [==============================] - 886s 164ms/step - loss: 0.1615 - acc: 0.1508 - val_loss: 1.5565 - val_acc: 0.0171\n",
      "Epoch 143/200\n",
      "5400/5400 [==============================] - 884s 164ms/step - loss: 0.1598 - acc: 0.1512 - val_loss: 1.5545 - val_acc: 0.0164\n",
      "Epoch 144/200\n",
      "5400/5400 [==============================] - 882s 163ms/step - loss: 0.1589 - acc: 0.1516 - val_loss: 1.5528 - val_acc: 0.0164\n",
      "Epoch 145/200\n",
      "5400/5400 [==============================] - 875s 162ms/step - loss: 0.1569 - acc: 0.1518 - val_loss: 1.5512 - val_acc: 0.0166\n",
      "Epoch 146/200\n",
      "5400/5400 [==============================] - 888s 164ms/step - loss: 0.1558 - acc: 0.1520 - val_loss: 1.5683 - val_acc: 0.0153\n",
      "Epoch 147/200\n",
      "5400/5400 [==============================] - 886s 164ms/step - loss: 0.1537 - acc: 0.1523 - val_loss: 1.5635 - val_acc: 0.0160\n",
      "Epoch 148/200\n",
      "5400/5400 [==============================] - 886s 164ms/step - loss: 0.1530 - acc: 0.1525 - val_loss: 1.5618 - val_acc: 0.0161\n",
      "Epoch 149/200\n",
      "5400/5400 [==============================] - 886s 164ms/step - loss: 0.1512 - acc: 0.1529 - val_loss: 1.5616 - val_acc: 0.0164\n",
      "Epoch 150/200\n",
      "5400/5400 [==============================] - 886s 164ms/step - loss: 0.1498 - acc: 0.1533 - val_loss: 1.5602 - val_acc: 0.0162\n",
      "Epoch 151/200\n",
      "5400/5400 [==============================] - 883s 164ms/step - loss: 0.1481 - acc: 0.1536 - val_loss: 1.5661 - val_acc: 0.0167\n",
      "Epoch 152/200\n",
      "5400/5400 [==============================] - 888s 164ms/step - loss: 0.1464 - acc: 0.1538 - val_loss: 1.5718 - val_acc: 0.0171\n",
      "Epoch 153/200\n",
      "5400/5400 [==============================] - 885s 164ms/step - loss: 0.1458 - acc: 0.1540 - val_loss: 1.5697 - val_acc: 0.0156\n",
      "Epoch 154/200\n",
      "5400/5400 [==============================] - 881s 163ms/step - loss: 0.1443 - acc: 0.1545 - val_loss: 1.5704 - val_acc: 0.0161\n",
      "Epoch 155/200\n",
      "5400/5400 [==============================] - 896s 166ms/step - loss: 0.1430 - acc: 0.1547 - val_loss: 1.5708 - val_acc: 0.0157\n",
      "Epoch 156/200\n",
      "5400/5400 [==============================] - 892s 165ms/step - loss: 0.1417 - acc: 0.1549 - val_loss: 1.5811 - val_acc: 0.0169\n",
      "Epoch 157/200\n",
      "5400/5400 [==============================] - 912s 169ms/step - loss: 0.1402 - acc: 0.1552 - val_loss: 1.5690 - val_acc: 0.0157\n",
      "Epoch 158/200\n",
      "5400/5400 [==============================] - 922s 171ms/step - loss: 0.1397 - acc: 0.1553 - val_loss: 1.5705 - val_acc: 0.0155\n",
      "Epoch 159/200\n",
      "5400/5400 [==============================] - 948s 176ms/step - loss: 0.1380 - acc: 0.1558 - val_loss: 1.5718 - val_acc: 0.0163\n",
      "Epoch 160/200\n",
      "5400/5400 [==============================] - 892s 165ms/step - loss: 0.1364 - acc: 0.1561 - val_loss: 1.5672 - val_acc: 0.0159\n",
      "Epoch 161/200\n",
      "5400/5400 [==============================] - 1040s 193ms/step - loss: 0.1356 - acc: 0.1562 - val_loss: 1.5775 - val_acc: 0.0160\n",
      "Epoch 162/200\n",
      "5400/5400 [==============================] - 946s 175ms/step - loss: 0.1352 - acc: 0.1564 - val_loss: 1.5694 - val_acc: 0.0161\n",
      "Epoch 163/200\n",
      "5400/5400 [==============================] - 989s 183ms/step - loss: 0.1335 - acc: 0.1566 - val_loss: 1.5667 - val_acc: 0.0155\n",
      "Epoch 164/200\n",
      "5400/5400 [==============================] - 1011s 187ms/step - loss: 0.1330 - acc: 0.1569 - val_loss: 1.5703 - val_acc: 0.0160\n",
      "Epoch 165/200\n",
      "5400/5400 [==============================] - 981s 182ms/step - loss: 0.1318 - acc: 0.1571 - val_loss: 1.5702 - val_acc: 0.0164\n",
      "Epoch 166/200\n",
      "5400/5400 [==============================] - 1029s 191ms/step - loss: 0.1306 - acc: 0.1572 - val_loss: 1.5720 - val_acc: 0.0153\n",
      "Epoch 167/200\n",
      "5400/5400 [==============================] - 1012s 187ms/step - loss: 0.1292 - acc: 0.1575 - val_loss: 1.5719 - val_acc: 0.0161\n",
      "Epoch 168/200\n",
      "5400/5400 [==============================] - 980s 181ms/step - loss: 0.1276 - acc: 0.1580 - val_loss: 1.5763 - val_acc: 0.0160\n",
      "Epoch 169/200\n",
      "5400/5400 [==============================] - 953s 177ms/step - loss: 0.1263 - acc: 0.1583 - val_loss: 1.5794 - val_acc: 0.0159\n",
      "Epoch 170/200\n",
      "5400/5400 [==============================] - 902s 167ms/step - loss: 0.1257 - acc: 0.1583 - val_loss: 1.5779 - val_acc: 0.0161\n",
      "Epoch 171/200\n",
      "5400/5400 [==============================] - 944s 175ms/step - loss: 0.1243 - acc: 0.1586 - val_loss: 1.5816 - val_acc: 0.0156\n",
      "Epoch 172/200\n",
      "5400/5400 [==============================] - 948s 176ms/step - loss: 0.1237 - acc: 0.1586 - val_loss: 1.5827 - val_acc: 0.0164\n",
      "Epoch 173/200\n",
      "5400/5400 [==============================] - 1014s 188ms/step - loss: 0.1222 - acc: 0.1592 - val_loss: 1.5789 - val_acc: 0.0162\n",
      "Epoch 174/200\n"
     ]
    },
    {
     "name": "stdout",
     "output_type": "stream",
     "text": [
      "5400/5400 [==============================] - 1114s 206ms/step - loss: 0.1219 - acc: 0.1594 - val_loss: 1.5796 - val_acc: 0.0162\n",
      "Epoch 175/200\n",
      "5400/5400 [==============================] - 881s 163ms/step - loss: 0.1210 - acc: 0.1594 - val_loss: 1.5860 - val_acc: 0.0164\n",
      "Epoch 176/200\n",
      "5400/5400 [==============================] - 882s 163ms/step - loss: 0.1202 - acc: 0.1595 - val_loss: 1.5784 - val_acc: 0.0160\n",
      "Epoch 177/200\n",
      "5400/5400 [==============================] - 866s 160ms/step - loss: 0.1194 - acc: 0.1598 - val_loss: 1.5866 - val_acc: 0.0159\n",
      "Epoch 178/200\n",
      "5400/5400 [==============================] - 894s 166ms/step - loss: 0.1181 - acc: 0.1598 - val_loss: 1.5748 - val_acc: 0.0164\n",
      "Epoch 179/200\n",
      "5400/5400 [==============================] - 898s 166ms/step - loss: 0.1172 - acc: 0.1601 - val_loss: 1.5842 - val_acc: 0.0158\n",
      "Epoch 180/200\n",
      "5400/5400 [==============================] - 919s 170ms/step - loss: 0.1172 - acc: 0.1601 - val_loss: 1.5829 - val_acc: 0.0164\n",
      "Epoch 181/200\n",
      "5400/5400 [==============================] - 925s 171ms/step - loss: 0.1157 - acc: 0.1604 - val_loss: 1.5904 - val_acc: 0.0166\n",
      "Epoch 182/200\n",
      "5400/5400 [==============================] - 972s 180ms/step - loss: 0.1144 - acc: 0.1607 - val_loss: 1.5895 - val_acc: 0.0157\n",
      "Epoch 183/200\n",
      "5400/5400 [==============================] - 1107s 205ms/step - loss: 0.1144 - acc: 0.1608 - val_loss: 1.5880 - val_acc: 0.0156\n",
      "Epoch 184/200\n",
      "5400/5400 [==============================] - 1001s 185ms/step - loss: 0.1126 - acc: 0.1612 - val_loss: 1.5855 - val_acc: 0.0157\n",
      "Epoch 185/200\n",
      "5400/5400 [==============================] - 946s 175ms/step - loss: 0.1129 - acc: 0.1610 - val_loss: 1.5796 - val_acc: 0.0161\n",
      "Epoch 186/200\n",
      "5400/5400 [==============================] - 946s 175ms/step - loss: 0.1117 - acc: 0.1612 - val_loss: 1.5857 - val_acc: 0.0164\n",
      "Epoch 187/200\n",
      "5400/5400 [==============================] - 909s 168ms/step - loss: 0.1114 - acc: 0.1614 - val_loss: 1.5835 - val_acc: 0.0159\n",
      "Epoch 188/200\n",
      "5400/5400 [==============================] - 866s 160ms/step - loss: 0.1107 - acc: 0.1616 - val_loss: 1.5896 - val_acc: 0.0156\n",
      "Epoch 189/200\n",
      "5400/5400 [==============================] - 989s 183ms/step - loss: 0.1094 - acc: 0.1618 - val_loss: 1.6032 - val_acc: 0.0158\n",
      "Epoch 190/200\n",
      "5400/5400 [==============================] - 1007s 186ms/step - loss: 0.1093 - acc: 0.1617 - val_loss: 1.5938 - val_acc: 0.0157\n",
      "Epoch 191/200\n",
      "5400/5400 [==============================] - 946s 175ms/step - loss: 0.1082 - acc: 0.1620 - val_loss: 1.5894 - val_acc: 0.0156\n",
      "Epoch 192/200\n",
      "5400/5400 [==============================] - 959s 178ms/step - loss: 0.1072 - acc: 0.1621 - val_loss: 1.5982 - val_acc: 0.0153\n",
      "Epoch 193/200\n",
      "5400/5400 [==============================] - 1058s 196ms/step - loss: 0.1073 - acc: 0.1623 - val_loss: 1.5988 - val_acc: 0.0158\n",
      "Epoch 194/200\n",
      "5400/5400 [==============================] - 1127s 209ms/step - loss: 0.1064 - acc: 0.1623 - val_loss: 1.5970 - val_acc: 0.0159\n",
      "Epoch 195/200\n",
      "5400/5400 [==============================] - 1114s 206ms/step - loss: 0.1052 - acc: 0.1626 - val_loss: 1.5953 - val_acc: 0.0150\n",
      "Epoch 196/200\n",
      "5400/5400 [==============================] - 1072s 198ms/step - loss: 0.1050 - acc: 0.1626 - val_loss: 1.5990 - val_acc: 0.0156\n",
      "Epoch 197/200\n",
      "5400/5400 [==============================] - 1098s 203ms/step - loss: 0.1051 - acc: 0.1627 - val_loss: 1.5975 - val_acc: 0.0159\n",
      "Epoch 198/200\n",
      "5400/5400 [==============================] - 1062s 197ms/step - loss: 0.1040 - acc: 0.1628 - val_loss: 1.5998 - val_acc: 0.0155\n",
      "Epoch 199/200\n",
      "5400/5400 [==============================] - 1056s 196ms/step - loss: 0.1033 - acc: 0.1632 - val_loss: 1.5941 - val_acc: 0.0164\n",
      "Epoch 200/200\n",
      "5400/5400 [==============================] - 964s 179ms/step - loss: 0.1028 - acc: 0.1632 - val_loss: 1.5985 - val_acc: 0.0160\n"
     ]
    },
    {
     "ename": "ValueError",
     "evalue": "Single '}' encountered in format string",
     "output_type": "error",
     "traceback": [
      "\u001b[0;31m---------------------------------------------------------------------------\u001b[0m",
      "\u001b[0;31mValueError\u001b[0m                                Traceback (most recent call last)",
      "\u001b[0;32m<ipython-input-137-9c51dafc900d>\u001b[0m in \u001b[0;36m<module>\u001b[0;34m\u001b[0m\n\u001b[1;32m      5\u001b[0m                              \u001b[0mepochs\u001b[0m \u001b[0;34m=\u001b[0m \u001b[0mepochs\u001b[0m\u001b[0;34m,\u001b[0m \u001b[0mvalidation_split\u001b[0m \u001b[0;34m=\u001b[0m \u001b[0mvalidation_split\u001b[0m\u001b[0;34m,\u001b[0m\u001b[0;34m\u001b[0m\u001b[0;34m\u001b[0m\u001b[0m\n\u001b[1;32m      6\u001b[0m                              verbose = 1, callbacks=[es])\n\u001b[0;32m----> 7\u001b[0;31m \u001b[0mprint\u001b[0m\u001b[0;34m(\u001b[0m\u001b[0;34m\"{} epoch training finished.}\"\u001b[0m\u001b[0;34m.\u001b[0m\u001b[0mformat\u001b[0m\u001b[0;34m(\u001b[0m\u001b[0mepochs\u001b[0m\u001b[0;34m)\u001b[0m\u001b[0;34m)\u001b[0m\u001b[0;34m\u001b[0m\u001b[0;34m\u001b[0m\u001b[0m\n\u001b[0m\u001b[1;32m      8\u001b[0m \u001b[0;34m\u001b[0m\u001b[0m\n\u001b[1;32m      9\u001b[0m \u001b[0;31m# Summarize history for accuracy\u001b[0m\u001b[0;34m\u001b[0m\u001b[0;34m\u001b[0m\u001b[0;34m\u001b[0m\u001b[0m\n",
      "\u001b[0;31mValueError\u001b[0m: Single '}' encountered in format string"
     ]
    }
   ],
   "source": [
    "# Training Model\n",
    "print(\"Training model for {} epochs with a validation split of {:.0%}...\".format(epochs,validation_split))\n",
    "history = training_model.fit([encoder_input_data, decoder_input_data],\n",
    "                             decoder_target_data, batch_size = batch_size,\n",
    "                             epochs = epochs, validation_split = validation_split,\n",
    "                             verbose = 1, callbacks=[es])"
   ]
  },
  {
   "cell_type": "markdown",
   "id": "8607d9e1",
   "metadata": {},
   "source": [
    "With only 6000 comment/reply pairs, the trained Seq2Seq model took a few days to complete."
   ]
  },
  {
   "cell_type": "code",
   "execution_count": 153,
   "id": "32ac104b",
   "metadata": {},
   "outputs": [
    {
     "name": "stdout",
     "output_type": "stream",
     "text": [
      "200 epoch training finished.\n"
     ]
    },
    {
     "data": {
      "image/png": "[encoded data removed]",
      "text/plain": [
       "<Figure size 432x288 with 1 Axes>"
      ]
     },
     "metadata": {
      "needs_background": "light"
     },
     "output_type": "display_data"
    },
    {
     "data": {
      "image/png": "[encoded data removed]",
      "text/plain": [
       "<Figure size 432x288 with 1 Axes>"
      ]
     },
     "metadata": {
      "needs_background": "light"
     },
     "output_type": "display_data"
    },
    {
     "name": "stdout",
     "output_type": "stream",
     "text": [
      "Final Accuracy (train): 16.32%\n",
      "Final Accuracy (validation): 1.60%\n",
      "Final Loss (train): 0.10282\n",
      "Final Loss (validation): 1.5985\n"
     ]
    }
   ],
   "source": [
    "print(\"{} epoch training finished.\".format(epochs))\n",
    "\n",
    "# Summarizing history of accuracy\n",
    "plt.plot(history.history['acc'])\n",
    "plt.plot(history.history['val_acc'])\n",
    "plt.title('model accuracy')\n",
    "plt.ylabel('accuracy')\n",
    "plt.xlabel('epoch')\n",
    "plt.legend(['train', 'test'], loc='upper left')\n",
    "plt.show()\n",
    "\n",
    "# Summarizing history of loss\n",
    "plt.plot(history.history['loss'])\n",
    "plt.plot(history.history['val_loss'])\n",
    "plt.title('model loss')\n",
    "plt.ylabel('loss')\n",
    "plt.xlabel('epoch')\n",
    "plt.legend(['train', 'test'], loc='upper left')\n",
    "plt.show()\n",
    "\n",
    "# Printing accuracy and loss\n",
    "print(\"Final Accuracy (train): {:.2%}\".format(history.history['acc'][-1]))\n",
    "print(\"Final Accuracy (validation): {:.2%}\".format(history.history['val_acc'][-1]))\n",
    "print(\"Final Loss (train): {:.5}\".format(history.history['loss'][-1]))\n",
    "print(\"Final Loss (validation): {:.5}\".format(history.history['val_loss'][-1]))\n",
    "\n",
    "# Saving Model to Keras' h5 format\n",
    "training_model.save('training_model.h5')"
   ]
  },
  {
   "cell_type": "code",
   "execution_count": 154,
   "id": "ea3573e2",
   "metadata": {},
   "outputs": [],
   "source": [
    "# Reloading trained Seq2Seq model\n",
    "training_model = load_model('training_model.h5')"
   ]
  },
  {
   "cell_type": "code",
   "execution_count": 155,
   "id": "aa941e90",
   "metadata": {},
   "outputs": [],
   "source": [
    "# Setting up Seq2Seq model for testing\n",
    "# Rebuilding Encoder from model\n",
    "encoder_inputs = training_model.input[0]\n",
    "encoder_outputs, state_h_enc, state_c_enc = training_model.layers[2].output\n",
    "encoder_states = [state_h_enc, state_c_enc]\n",
    "encoder_model = Model(encoder_inputs, encoder_states)"
   ]
  },
  {
   "cell_type": "code",
   "execution_count": 156,
   "id": "46dab5ea",
   "metadata": {},
   "outputs": [],
   "source": [
    "# Rebuilding Decoder from model\n",
    "latent_dim = 256\n",
    "decoder_state_input_hidden = Input(shape=(latent_dim,))\n",
    "decoder_state_input_cell = Input(shape=(latent_dim,))\n",
    "decoder_states_inputs = [decoder_state_input_hidden, decoder_state_input_cell]\n",
    "decoder_outputs, state_hidden, state_cell = decoder_lstm(decoder_inputs, initial_state=decoder_states_inputs)\n",
    "decoder_states = [state_hidden, state_cell]\n",
    "decoder_outputs = decoder_dense(decoder_outputs)\n",
    "decoder_model = Model([decoder_inputs] + decoder_states_inputs, [decoder_outputs] + decoder_states)"
   ]
  },
  {
   "cell_type": "code",
   "execution_count": 157,
   "id": "0b5a0a18",
   "metadata": {},
   "outputs": [],
   "source": [
    "# Defining function to decode predicted sequence of indices into text\n",
    "def decode_response(test_input):\n",
    "    #Getting the output states to pass into the decoder\n",
    "    states_value = encoder_model.predict(test_input)\n",
    "    #Generating empty target sequence of length 1\n",
    "    target_seq = np.zeros((1, 1, num_decoder_tokens))\n",
    "    #Setting the first token of target sequence with the start token\n",
    "    target_seq[0, 0, target_word2idx['<START>']] = 1.\n",
    "    \n",
    "    #A variable to store our response word by word\n",
    "    decoded_sentence = ''\n",
    "    \n",
    "    stop_condition = False\n",
    "\n",
    "    while not stop_condition:\n",
    "        #Predicting output tokens with probabilities and states\n",
    "        output_tokens, hidden_state, cell_state = decoder_model.predict([target_seq] + states_value)\n",
    "        #Choosing the one with highest probability\n",
    "        sampled_token_index = np.argmax(output_tokens[0, -1, :])\n",
    "        sampled_token = target_idx2word[sampled_token_index]\n",
    "        decoded_sentence += \" \" + sampled_token\n",
    "        #Stop if hit max length or found the stop token\n",
    "        if (sampled_token == '<END>' or len(decoded_sentence) > max_decoder_seq_length):\n",
    "            stop_condition = True\n",
    "        #Update the target sequence\n",
    "        target_seq = np.zeros((1, 1, num_decoder_tokens))\n",
    "        target_seq[0, 0, sampled_token_index] = 1.\n",
    "        #Update states\n",
    "        states_value = [hidden_state, cell_state]\n",
    "    return decoded_sentence"
   ]
  },
  {
   "cell_type": "code",
   "execution_count": 185,
   "id": "255df84d",
   "metadata": {
    "scrolled": true
   },
   "outputs": [
    {
     "name": "stdout",
     "output_type": "stream",
     "text": [
      "Chatbot: Hi, I'm a Chatbot, a chatbot trained on random dialogs. Would you like to chat with me?\n",
      "hey chatbot sure\n",
      "Chatbot: i know something but what do you have to do i \n",
      "what do you know\n",
      "Chatbot: and if you do not know about all i will have do you think i would\n",
      "interesting thing to say\n",
      "Chatbot: so it be time to go home \n",
      "already? alright then, good bye\n",
      "Chatbot: Ok, have a great day!\n"
     ]
    }
   ],
   "source": [
    "# Creating a framework for our chatbot\n",
    "class ChatBot:\n",
    "    negative_responses = (\"no\", \"nope\", \"nah\", \"naw\", \"not a chance\", \"sorry\")\n",
    "    exit_commands = (\"quit\", \"pause\", \"exit\", \"goodbye\", \"bye\", \"later\", \"stop\")\n",
    "\n",
    "    # Method to start the conversation\n",
    "    def start_chat(self):\n",
    "        user_response = input(\"Chatbot: Hi, I'm a Chatbot, a chatbot trained on random dialogs. Would you like to chat with me?\\n\")\n",
    "    \n",
    "        if user_response in self.negative_responses:\n",
    "            print(\"Chatbot: Ok, have a great day!\")\n",
    "            return\n",
    "        self.chat(user_response)\n",
    "        \n",
    "    # Method to handle the conversation\n",
    "    def chat(self, reply):\n",
    "        while not self.make_exit(reply):\n",
    "            reply = input(\"Chatbot:\"+self.generate_response(reply)+\"\\n\")\n",
    "    \n",
    "    # Method to convert user input into a matrix\n",
    "    def string_to_matrix(self, user_input):\n",
    "        tokens = re.findall(r\"[\\w']+|[^\\s\\w]\", user_input)\n",
    "        user_input_matrix = np.zeros(\n",
    "            (1, max_encoder_seq_length, num_encoder_tokens), dtype='float32')\n",
    "        for timestep, token in enumerate(tokens):\n",
    "            if token in input_word2idx:\n",
    "                user_input_matrix[0, timestep, input_word2idx[token]] = 1.\n",
    "        return user_input_matrix\n",
    "  \n",
    "    # Method to create a response using the Seq2Seq model we built\n",
    "    def generate_response(self, user_input):\n",
    "        input_matrix = self.string_to_matrix(user_input)\n",
    "        chatbot_response = decode_response(input_matrix)\n",
    "        #Remove <START> and <END> tokens from chatbot_response\n",
    "        chatbot_response = chatbot_response.replace(\"<START>\",'')\n",
    "        chatbot_response = chatbot_response.replace(\"<END>\",'')\n",
    "        return chatbot_response\n",
    "\n",
    "    # Method to check for exit commands\n",
    "    def make_exit(self, reply):\n",
    "        for exit_command in self.exit_commands:\n",
    "            if exit_command in reply:\n",
    "                print(\"Chatbot: Ok, have a great day!\")\n",
    "                return True\n",
    "        return False\n",
    "\n",
    "chatbot = ChatBot()\n",
    "chatbot.start_chat()"
   ]
  },
  {
   "cell_type": "markdown",
   "id": "0a61b43b",
   "metadata": {},
   "source": [
    "Overall, despite the relatively small size of the dataset, the model was able to reproduce human readable responses. These responses might feel a little strange, but it's likely due to the lack of training samples. We could try to increasing the data size once more computing power is available, use a different kind of word embedding, or just try out a different kind of neural network architecture such as transformers. I would love to try them out when I have the time."
   ]
  },
  {
   "cell_type": "code",
   "execution_count": null,
   "id": "899c979b",
   "metadata": {},
   "outputs": [],
   "source": []
  }
 ],
 "metadata": {
  "kernelspec": {
   "display_name": "Python 3",
   "language": "python",
   "name": "python3"
  },
  "language_info": {
   "codemirror_mode": {
    "name": "ipython",
    "version": 3
   },
   "file_extension": ".py",
   "mimetype": "text/x-python",
   "name": "python",
   "nbconvert_exporter": "python",
   "pygments_lexer": "ipython3",
   "version": "3.7.7"
  }
 },
 "nbformat": 4,
 "nbformat_minor": 5
}
